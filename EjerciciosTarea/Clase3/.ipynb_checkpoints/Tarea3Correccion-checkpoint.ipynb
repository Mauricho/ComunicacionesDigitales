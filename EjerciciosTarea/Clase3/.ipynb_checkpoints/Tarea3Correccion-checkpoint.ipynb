{
 "cells": [
  {
   "cell_type": "markdown",
   "id": "3c709e1c-51c2-446c-85e7-4ad3b2909345",
   "metadata": {},
   "source": [
    "# Cálculo del valor de decisón óptimo para el caso de una regla de decisión ML."
   ]
  },
  {
   "cell_type": "code",
   "execution_count": 1,
   "id": "4d3000e3-ee2c-4a6b-b734-f7280516f505",
   "metadata": {},
   "outputs": [],
   "source": [
    "#---------------------------------------------------------------------------------\n",
    "# Project    : Tarea N°3\n",
    "# Authors    : Mugni Juan Mauricio\n",
    "# Affiliation: UNC\n",
    "# E-mail     : mauricio.mugni@mi.unc.edu.ar\n",
    "#---------------------------------------------------------------------------------"
   ]
  },
  {
   "cell_type": "markdown",
   "id": "6dca1e44-335b-4039-a925-8013eaa0e9f0",
   "metadata": {},
   "source": [
    "## Consigna"
   ]
  },
  {
   "cell_type": "markdown",
   "id": "ce9aeb28-cc55-4024-8e73-167f4b15baee",
   "metadata": {},
   "source": [
    "Adjunte una Jupyter Notebook en donde quede expresado el desarrollo matemático que permite obtener el valor del nivel de decisión para el caso del ejemplo planteado en la clase, esto es para una regla de decisión ML y valores de intensidad de  $\\lambda_0= 1$ y $\\lambda_1=3$. "
   ]
  },
  {
   "cell_type": "markdown",
   "id": "94c3095f-5db3-407b-9c0a-d76f4683ffc5",
   "metadata": {},
   "source": [
    "## Resolución"
   ]
  },
  {
   "cell_type": "markdown",
   "id": "6fa2c917-cb87-4513-9ee2-5a55096f5d58",
   "metadata": {},
   "source": [
    "Lo que hace interesante al problema planteado en el ejemplo es que es imposible determinar con total certeza la hipótesis transmitida (H) a partir de la señal discreta (Y) obtenida a la salida del fotodetector. Incluso si el LED del transmisor está apagado, es probable que el fotodetector detecte algunos fotones (por ejemplo, debido a la “luz ambiental”). En base a investigaciones realizadas sobre esta situación, resulta ser una buena suposición afirmar que Y tiene una distribución de Poisson con intensidad λ, la cual depende de si el LED está encendido o apagado. Matemáticamente esto se expresa de la siguiente forma:\n",
    "\n",
    "Cuando $\\quad H=0,\\quad Y \\sim P_{Y|H}(y|0)=\\frac{λ_0^y}{y!}e^{-λ_0}$\n",
    "\n",
    "Cuando $\\quad H=1,\\quad Y \\sim P_{Y|H}(y|1)=\\frac{λ_1^y}{y!}e^{-λ_1}$\n",
    "\n",
    "donde $0\\leqslantλ_0<λ_1$.\n",
    "\n",
    "Realicemos una simulación del problema utilizando para ello dos generadores de variables de distribución de Poisson parametrizado cada uno ellos con un valor distinto de intensidad $λ$. A continuación grafiquemos en una misma figura los histogramas de la variable aleatoria $Y$ para cada una de las hipótesis $H$ transmitidas. Se puede considerar a estos histogramas como representaciones de las probabilidades condicionales $P_{Y|H}(y|1)$ y $P_{Y|H}(y|0)$"
   ]
  },
  {
   "cell_type": "markdown",
   "id": "052fc242-5abc-465f-9241-70baa9b258b3",
   "metadata": {},
   "source": [
    "Importamos primero las librerías necesarias:"
   ]
  },
  {
   "cell_type": "code",
   "execution_count": 5,
   "id": "fa809cf9-4cad-4dc6-b588-1e6672c71e31",
   "metadata": {},
   "outputs": [],
   "source": [
    "import numpy as np\n",
    "import matplotlib.pyplot as plt"
   ]
  },
  {
   "cell_type": "code",
   "execution_count": 7,
   "id": "f8ecbe1c-389e-4788-9b5e-52ff6d4f9a69",
   "metadata": {},
   "outputs": [
    {
     "data": {
      "image/png": "[encoded data removed]",
      "text/plain": [
       "<Figure size 1500x500 with 1 Axes>"
      ]
     },
     "metadata": {},
     "output_type": "display_data"
    }
   ],
   "source": [
    "lambda0 = 1\n",
    "lambda1 = 3\n",
    "numberOfsamples = 50000\n",
    "\n",
    "# Analizando la estadística\n",
    "signal_received_h0 =  np.random.poisson(lambda0, numberOfsamples)  #Generadores con distribución de Poisson\n",
    "signal_received_h1 = np.random.poisson(lambda1, numberOfsamples)   #Generadores con distribución de Poisso\n",
    "\n",
    "plt.figure(figsize=(15,5))\n",
    "plt.hist(signal_received_h0,bins = 10, range = (0,10), density = True , width = 0.3, align='mid', alpha = 0.4)\n",
    "plt.hist(signal_received_h1, bins = 10 , range = (0,10), density = True , width =0.3, align='mid', alpha = 0.4)\n",
    "plt.xlabel('y')\n",
    "plt.xticks(range(0, 11))\n",
    "plt.ylabel('Amplitud')\n",
    "plt.title('Histograma normalizado')\n",
    "plt.grid()\n",
    "plt.show()"
   ]
  },
  {
   "cell_type": "markdown",
   "id": "29bcc5f6-cd3f-48e9-b22b-d08609fb0e2a",
   "metadata": {},
   "source": [
    "## Análisis cualitativo para la determinación del nivel de decisión\n",
    "Mediante un análisis cualitativo de los histogramas, es posible determinar el nivel de decisión, llamado también nivel de referencia, que va a usar el receptor para decidir (decodificar) cual es la hipótesis que tiene más probabilidad de haber sido transmitida en cualquier instante de tiempo dado. Para determinar este nivel basta con encontrar en que valor de $y$ la frecuencia relativa de los histogramas se igualan o al menos se encuentran más próximas entre ellas. Para el caso de $λ_0 = 1$ y $λ_1 = 3$ se puede observar que el valor de decisión esta dado para un $y=2$."
   ]
  },
  {
   "cell_type": "markdown",
   "id": "6b3faa44-4cf4-4014-8db3-40bce8455790",
   "metadata": {},
   "source": [
    "## Análisis cuantitativo para la determinación del nivel de decisión: Regla de decisión de Máxima Verosimilitud.\n",
    "Para el caso de hipótesis (H) equiprobables y observaciones (Y) discretas (que es el caso de nuestro ejemplo), la regla de decisión de máxima verosimilitud (del inglés Maximum Likelihood decision Rule) o ML, establece que la hipótesis transmitida más probable dada la observación Y en un instante de tiempo dado es aquella que cumple con la siguiente relación:\n",
    "\n",
    "$\\hat{H}(y)=  \\underset{i\\in \\mathcal{H}}{\\operatorname{argmax}} P_{Y|H}(y|i)$\n",
    "\n",
    "Para el caso de test de hipótesis binaria (que es el caso de nuestro ejemplo) la regla de decisión ML queda simplificada a la siguiente expresión:\n",
    "\n",
    "$P_{Y|H}(y|1)\\overset{\\hat{H}=1}{\\underset{\\hat{H}=0}\\gtreqless}P_{Y|H}(y|0)$\n",
    "\n",
    "Si reemplazamos en esta relación a $P_{Y|H}(y|1)$ por $\\frac{λ_1^y}{y!}e^{-λ_1}$ y a $P_{Y|H}(y|0)$ por $\\frac{λ_0^y}{y!}e^{-λ_0}$ y utilizando las intensidades $λ_1=3$ y $λ_0=1$ se obtiene la siguiente inecuación:\n",
    "\n",
    "$\\frac{3^y}{y!}e^{-3}\\overset{\\hat{H}=1}{\\underset{\\hat{H}=0}\\gtreqless}\\frac{1^y}{y!}e^{-1}$\n",
    "\n",
    "Simplificando los denominadores, y juntando $y$\n",
    "\n",
    "$\\frac{3^y}{1^y}\\overset{\\hat{H}=1}{\\underset{\\hat{H}=0}\\gtreqless}\\frac{e^{-1}}{e^{-3}}$\n",
    "\n",
    "Aplicando propiedad de los exponentes:\n",
    "\n",
    "$3^y\\overset{\\hat{H}=1}{\\underset{\\hat{H}=0}\\gtreqless}e^{2}$\n",
    "\n",
    "$log_3 3^y\\overset{\\hat{H}=1}{\\underset{\\hat{H}=0}\\gtreqless}log_3 e^{2}$\n",
    "\n",
    "$y\\overset{\\hat{H}=1}{\\underset{\\hat{H}=0}\\gtreqless}log_3 e^{2}$\n",
    "\n",
    "Obtengo:\n",
    "\n",
    "$y\\overset{\\hat{H}=1}{\\underset{\\hat{H}=0}\\gtreqless}1.8$\n",
    "\n",
    "la cual nos está indicando que en teoría, el nivel de decisión del receptor debe estar ubicado un valor igual 1.8. Este resultado es coherente con el resultado obtenido en nuestro análisis cualitativo previo del problema.\n",
    "Y se llega a lo indicado en el aula virtual."
   ]
  },
  {
   "cell_type": "code",
   "execution_count": null,
   "id": "14961626-735a-427e-a8ac-ecf20fd5a350",
   "metadata": {},
   "outputs": [],
   "source": []
  }
 ],
 "metadata": {
  "kernelspec": {
   "display_name": "Python 3 (ipykernel)",
   "language": "python",
   "name": "python3"
  },
  "language_info": {
   "codemirror_mode": {
    "name": "ipython",
    "version": 3
   },
   "file_extension": ".py",
   "mimetype": "text/x-python",
   "name": "python",
   "nbconvert_exporter": "python",
   "pygments_lexer": "ipython3",
   "version": "3.11.7"
  }
 },
 "nbformat": 4,
 "nbformat_minor": 5
}
