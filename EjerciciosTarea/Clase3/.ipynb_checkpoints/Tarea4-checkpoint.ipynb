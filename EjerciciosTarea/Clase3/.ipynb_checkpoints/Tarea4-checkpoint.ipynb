{
 "cells": [
  {
   "cell_type": "markdown",
   "id": "a1f03e47-db27-4e08-98ea-3e6fdc45d136",
   "metadata": {},
   "source": [
    "# Cálculo del valor de decisón óptimo para el caso de una regla de decisión ML."
   ]
  },
  {
   "cell_type": "code",
   "execution_count": 1,
   "id": "a99dcfc0-f2a5-48aa-8584-57e6d41fbe57",
   "metadata": {},
   "outputs": [],
   "source": [
    "#---------------------------------------------------------------------------------\n",
    "# Project    : Tarea N°4\n",
    "# Authors    : Mugni Juan Mauricio\n",
    "# Affiliation: UNC\n",
    "# E-mail     : mauricio.mugni@mi.unc.edu.ar\n",
    "#---------------------------------------------------------------------------------"
   ]
  },
  {
   "cell_type": "markdown",
   "id": "9f274e9f-2eb0-42d8-b70c-ff70ff0348cb",
   "metadata": {},
   "source": [
    "## Consigna"
   ]
  },
  {
   "cell_type": "markdown",
   "id": "7d66544a-3935-4717-a172-ad5d95c6e67f",
   "metadata": {},
   "source": [
    "Suponga que se desea enviar valores de la hipotesis H a través de un canal  modelado como ruido discreto aditivo N, de modo que la señal discreta Y observada en el receptor tiene la forma Y = H + N. Suponga que H y N son variables aleatorias discretas independientes que toman valores cero y uno de forma equiprobable. Bajo esta situación se puede decir que va a ser probable observar tres valores de Y, esto es y =0, 1 o 2. \n",
    "- Encontrar las probabilidades condicionales $P_{Y/H}(y/0)$ y  $P_{Y/H}(y/1)$ .\n",
    "- Determinar cualitativamente el nivel de decisión óptimo a fijar en el receptor según el criterio ML.\n",
    "- Realizar una simulación Monte Carlo del problema para encontrar el valor de la probabilidad de error Pe para un nivel de decisión igual a 0, 1 y 2.\n",
    "  \n",
    "Ayuda:  Los valores de Y van a estar dados por las siguientes posibilidades:\n",
    "                      \n",
    "                        H + \tN = \t Y\n",
    "                        \n",
    "                        0 + \t0 = \t 0\n",
    "                        \n",
    "                        0 + \t1 = \t 1\n",
    "                        \n",
    "                        1 + \t0 = \t 1\n",
    "                        \n",
    "                        1 + \t1 = \t 2"
   ]
  },
  {
   "cell_type": "markdown",
   "id": "a41edf63-d713-4bd9-b31d-678a31461921",
   "metadata": {},
   "source": [
    "## Resolución"
   ]
  },
  {
   "cell_type": "markdown",
   "id": "184a9275-f1db-4505-9dc7-a9f3fa047355",
   "metadata": {},
   "source": [
    "## Probabilidades Condicionales"
   ]
  },
  {
   "cell_type": "markdown",
   "id": "b657e80a-7fc0-48ce-bb2b-a24ca7a83bf8",
   "metadata": {},
   "source": [
    "Podemos ver a partir de la tabla, lo siguiente:\n",
    "\n",
    "$P_{Y|H}(0|0)=0.5$ Probabilidad de que la salida sea 0 para cuando la hipotesís es 0\n",
    "\n",
    "$P_{Y|H}(1|0)=0.5$ Probabilidad de que la salida sea 1 para cuando la hipotesís es 0\n",
    "\n",
    "$P_{Y|H}(2|0)=0$   Probabilidad de que la salida sea 2 para cuando la hipotesís es 0\n",
    "\n",
    "$P_{Y|H}(0|1)=0$   Probabilidad de que la salida sea 0 para cuando la hipotesís es 1\n",
    "\n",
    "$P_{Y|H}(1|1)=0.5$ Probabilidad de que la salida sea 1 para cuando la hipotesís es 1\n",
    "\n",
    "$P_{Y|H}(2|1)=0.5$ Probabilidad de que la salida sea 2 para cuando la hipotesís es 1"
   ]
  },
  {
   "cell_type": "markdown",
   "id": "2a8705c9-b905-46e9-9330-c6a3643afc38",
   "metadata": {},
   "source": [
    "Podemos graficar la distribución de probabilidad para cada hipotesís. Para esto primero importamos las siguientes librerías, que servirán para el siguiente código:"
   ]
  },
  {
   "cell_type": "code",
   "execution_count": 8,
   "id": "67820693-bc44-4d53-8b3d-a7a26540764d",
   "metadata": {},
   "outputs": [],
   "source": [
    "import random\n",
    "import numpy as np\n",
    "import matplotlib.pyplot as plt"
   ]
  },
  {
   "cell_type": "markdown",
   "id": "d95a5ea8-0b1f-41a0-81a1-0ca0e7232c7e",
   "metadata": {},
   "source": [
    "A continuación desarrollamos el código para llevar a cabo la simulación de lo antes calculado. Primero la función para cuando $H=0$"
   ]
  },
  {
   "cell_type": "code",
   "execution_count": 23,
   "id": "370faec1-303f-425f-8ff1-a191f87f77b4",
   "metadata": {},
   "outputs": [],
   "source": [
    "def calcular_probabilidad_h0(num_simulaciones):\n",
    "    \n",
    "    contadorA = 0       # Probabilidad de que la salida sea 0 para cuando la hipotesís es 0\n",
    "    contadorB = 0       # Probabilidad de que la salida sea 1 para cuando la hipotesís es 0\n",
    "    contadorC = 0       # Probabilidad de que la salida sea 2 para cuando la hipotesís es 0 \n",
    "\n",
    "    for i in range(num_simulaciones):\n",
    "\n",
    "        H = 0                    #Hipotesís\n",
    "        N = random.randint(0, 1) #Ruido\n",
    "        \n",
    "        suma = H + N         #Salida\n",
    "\n",
    "        if suma == 0:        #Si ocurre el evento A\n",
    "            contadorA += 1\n",
    "        elif suma  == 1:     #Si ocurre el evento B    \n",
    "            contadorB += 1\n",
    "        else:                #Si ocurre el evento C  \n",
    "            contadorC += 1\n",
    "\n",
    "    probA = contadorA / num_simulaciones    #Probabilidad del evento A\n",
    "    probB = contadorB / num_simulaciones    #Probabilidad del evento B\n",
    "    probC = contadorC / num_simulaciones    #Probabilidad del evento C\n",
    "\n",
    "    #Datos de la tirada\n",
    "    etiquetas = ['$Y=0$','$Y=1$','$Y=2$']\n",
    "    datos = [probA,probB,probC]\n",
    "\n",
    "    #Crear el histograma con etiquetas\n",
    "    plt.bar(etiquetas,datos,color=['blue','red','yellow'])\n",
    "\n",
    "    return (probA, probB, probC)"
   ]
  },
  {
   "cell_type": "markdown",
   "id": "3a3b9c69-a038-4766-879b-0a02e4d4d03d",
   "metadata": {},
   "source": [
    "Gráfico el resultado:"
   ]
  },
  {
   "cell_type": "code",
   "execution_count": 24,
   "id": "0ebf1676-744c-4dba-8cec-aa9ade330a03",
   "metadata": {},
   "outputs": [
    {
     "name": "stdout",
     "output_type": "stream",
     "text": [
      "La probabilidad de los eventos A: 0.5004 \n",
      "La probabilidad de los eventos B: 0.4996 \n",
      "La probabilidad de los eventos C son: 0.0 \n"
     ]
    },
    {
     "data": {
      "image/png": "[encoded data removed]",
      "text/plain": [
       "<Figure size 640x480 with 1 Axes>"
      ]
     },
     "metadata": {},
     "output_type": "display_data"
    }
   ],
   "source": [
    "num_simulaciones = 50000 #int(input(\"Ingrese el número de simulaciones: \"))\n",
    "\n",
    "results = calcular_probabilidad_h0(num_simulaciones)\n",
    "\n",
    "print(f'La probabilidad de los eventos A: {results[0]} \\nLa probabilidad de los eventos B: {results[1]} \\nLa probabilidad de los eventos C son: {results[2]} ')\n",
    "\n",
    "plt.title('Histograma de la distribución de probabilidad $H=0$')\n",
    "plt.ylabel('Probabilidad')\n",
    "plt.show()"
   ]
  },
  {
   "cell_type": "markdown",
   "id": "716d43ba-852a-4d19-8aed-37167b083bf6",
   "metadata": {},
   "source": [
    "Ahora para $H=1$"
   ]
  },
  {
   "cell_type": "code",
   "execution_count": 26,
   "id": "16384036-622c-4a3e-b9f0-1f843e3947d5",
   "metadata": {},
   "outputs": [],
   "source": [
    "def calcular_probabilidad_h1(num_simulaciones):\n",
    "    \n",
    "    contadorA = 0       # Probabilidad de que la salida sea 0 para cuando la hipotesís es 1\n",
    "    contadorB = 0       # Probabilidad de que la salida sea 1 para cuando la hipotesís es 1\n",
    "    contadorC = 0       # Probabilidad de que la salida sea 2 para cuando la hipotesís es 1 \n",
    "\n",
    "    for i in range(num_simulaciones):\n",
    "\n",
    "        H = 1                    #Hipotesís\n",
    "        N = random.randint(0, 1) #Ruido\n",
    "        \n",
    "        suma = H + N         #Salida\n",
    "\n",
    "        if suma == 0:        #Si ocurre el evento A\n",
    "            contadorA += 1\n",
    "        elif suma  == 1:     #Si ocurre el evento B    \n",
    "            contadorB += 1\n",
    "        else:                #Si ocurre el evento C  \n",
    "            contadorC += 1\n",
    "\n",
    "    probA = contadorA / num_simulaciones    #Probabilidad del evento A\n",
    "    probB = contadorB / num_simulaciones    #Probabilidad del evento B\n",
    "    probC = contadorC / num_simulaciones    #Probabilidad del evento C\n",
    "\n",
    "    #Datos de la tirada\n",
    "    etiquetas = ['$Y=0$','$Y=1$','$Y=2$']\n",
    "    datos = [probA,probB,probC]\n",
    "\n",
    "    #Crear el histograma con etiquetas\n",
    "    plt.bar(etiquetas,datos,color=['blue','red','yellow'])\n",
    "\n",
    "    return (probA, probB, probC)"
   ]
  },
  {
   "cell_type": "code",
   "execution_count": 27,
   "id": "8bf53460-9a74-44df-b1f6-e7f9c02a1e8e",
   "metadata": {},
   "outputs": [
    {
     "name": "stdout",
     "output_type": "stream",
     "text": [
      "La probabilidad de los eventos A: 0.0 \n",
      "La probabilidad de los eventos B: 0.4997 \n",
      "La probabilidad de los eventos C son: 0.5003 \n"
     ]
    },
    {
     "data": {
      "image/png": "[encoded data removed]",
      "text/plain": [
       "<Figure size 640x480 with 1 Axes>"
      ]
     },
     "metadata": {},
     "output_type": "display_data"
    }
   ],
   "source": [
    "num_simulaciones = 50000 #int(input(\"Ingrese el número de simulaciones: \"))\n",
    "\n",
    "results = calcular_probabilidad_h1(num_simulaciones)\n",
    "\n",
    "print(f'La probabilidad de los eventos A: {results[0]} \\nLa probabilidad de los eventos B: {results[1]} \\nLa probabilidad de los eventos C son: {results[2]} ')\n",
    "\n",
    "plt.title('Histograma de la distribución de probabilidad $H=1$')\n",
    "plt.ylabel('Probabilidad')\n",
    "plt.show()"
   ]
  },
  {
   "cell_type": "markdown",
   "id": "b19faf14-9a5b-4ae9-82ed-5f0373c08d4b",
   "metadata": {},
   "source": [
    "## Análisis cualitativo para la determinación del nivel de decisión\n",
    "Podemos determinar el siguiente criterio de decisión, si es mayor o igual a 1, se esta enviando un 1.\n",
    "En cambio, si es menor a 1, se esta eviando un cero."
   ]
  },
  {
   "cell_type": "markdown",
   "id": "eba6c19d-c5d1-47e4-a58f-691be86675d1",
   "metadata": {},
   "source": [
    "## Simulación Monte Carlo"
   ]
  },
  {
   "cell_type": "markdown",
   "id": "1b7daddf-3edc-40fc-83bf-fec3ff89dc4b",
   "metadata": {},
   "source": [
    "En un primer intento, se realizo la simulación de acuerdo a lo visto en clases anteriores, en donde se aplico un concepto simular utilizando dados. Por lo tanto el código mostrado al principio es adaptado a este ejercicio, en donde se conluye con el gráfico de la cantidad de veces que ocurre cada evento.\n"
   ]
  },
  {
   "cell_type": "markdown",
   "id": "ac9adc30-dcf9-4a76-a589-1554352f2869",
   "metadata": {},
   "source": [
    "Función que me va a permitir calcular la probabilidad a partir del método de Monte Carlo:"
   ]
  },
  {
   "cell_type": "code",
   "execution_count": 3,
   "id": "9a712a37-de1d-4969-9926-bc16f7352e9f",
   "metadata": {},
   "outputs": [],
   "source": [
    "def calcular_probabilidad(num_simulaciones):\n",
    "    \n",
    "    contadorA = 0       #Contador para el evento A: 0 0\n",
    "    contadorB = 0       #Contador para el evento B: 0 1  ó  1 0\n",
    "    contadorC = 0       #Contador para el evento C: 1 1  \n",
    "\n",
    "    for i in range(num_simulaciones):\n",
    "\n",
    "        H = random.randint(0, 1) #Hipotesís\n",
    "        N = random.randint(0, 1) #Ruido\n",
    "        \n",
    "        suma = H + N         #Salida\n",
    "\n",
    "        if suma == 0:        #Si ocurre el evento A\n",
    "            contadorA += 1\n",
    "        elif suma  == 1:     #Si ocurre el evento B    \n",
    "            contadorB += 1\n",
    "        else:                #Si ocurre el evento C  \n",
    "            contadorC += 1\n",
    "\n",
    "    probA = contadorA / num_simulaciones    #Probabilidad del evento A\n",
    "    probB = contadorB / num_simulaciones    #Probabilidad del evento B\n",
    "    probC = contadorC / num_simulaciones    #Probabilidad del evento C\n",
    "\n",
    "    #Datos de la tirada\n",
    "    etiquetas = ['Evento A','Evento B','Evento C']\n",
    "    datos = [contadorA,contadorB,contadorC]\n",
    "\n",
    "    #Crear el histograma con etiquetas\n",
    "    plt.bar(etiquetas,datos,color=['blue','red','yellow'])\n",
    "\n",
    "    return (probA, probB, probC)"
   ]
  },
  {
   "cell_type": "markdown",
   "id": "a21e7a4d-ce79-488d-9989-95239f177ceb",
   "metadata": {},
   "source": [
    "Indica la cantidad de simulaciones, y grafico la cantidad de veces que sucede cada evento."
   ]
  },
  {
   "cell_type": "code",
   "execution_count": 4,
   "id": "3ec4d507-3e04-41aa-936c-73e75f8b8018",
   "metadata": {
    "scrolled": true
   },
   "outputs": [
    {
     "name": "stdout",
     "output_type": "stream",
     "text": [
      "La probabilidad de los eventos A: 0.24866 \n",
      "La probabilidad de los eventos B: 0.5011 \n",
      "La probabilidad de los eventos C son: 0.25024 \n"
     ]
    },
    {
     "data": {
      "image/png": "[encoded data removed]",
      "text/plain": [
       "<Figure size 640x480 with 1 Axes>"
      ]
     },
     "metadata": {},
     "output_type": "display_data"
    }
   ],
   "source": [
    "num_simulaciones = 50000 #int(input(\"Ingrese el número de simulaciones: \"))\n",
    "\n",
    "results = calcular_probabilidad(num_simulaciones)\n",
    "\n",
    "print(f'La probabilidad de los eventos A: {results[0]} \\nLa probabilidad de los eventos B: {results[1]} \\nLa probabilidad de los eventos C son: {results[2]} ')\n",
    "\n",
    "plt.title('Histograma de dos dados')\n",
    "plt.ylabel('Frecuencia')\n",
    "plt.show()"
   ]
  },
  {
   "cell_type": "markdown",
   "id": "92ff6eaa-cb51-4dbe-8fd3-d73b3a16199f",
   "metadata": {},
   "source": [
    "Vemos que los valores obtenidos son aproximados a los calculados de manera teorica, y al sumarlos da 1."
   ]
  },
  {
   "cell_type": "markdown",
   "id": "8a99f481-d587-4010-9752-46da04056477",
   "metadata": {},
   "source": [
    "A continuación, se desarrolla en código para transmitir (hipotesís + ruido), calculamos la salida, y se realiza la decodificación."
   ]
  },
  {
   "cell_type": "code",
   "execution_count": 5,
   "id": "26f3bfd5-baeb-4401-8f8b-5e736e45732b",
   "metadata": {},
   "outputs": [
    {
     "name": "stdout",
     "output_type": "stream",
     "text": [
      "Impresión de las primeras 30 hipotesis transmitidas:\n",
      " [0 0 1 1 1 1 0 1 0 0 1 1 0 1 0 0 1 1 1 1 0 0 0 0 1 1 0 1 1 0]\n",
      "\n",
      "Impresión de los primeros 30 ruidos transmitidos:\n",
      " [0 1 0 1 1 1 1 0 0 1 1 0 1 0 0 1 0 1 1 1 0 0 0 1 0 1 0 1 0 1]\n",
      "\n",
      "Impresión de las primeras 30 muestras observadas a la salida del canal:\n",
      " [1, 1, 2, 2, 2, 1, 1, 0, 1, 2, 1, 1, 1, 0, 1, 1, 2, 2, 2, 0, 0, 0, 1, 1, 2, 0, 2, 1, 1]\n"
     ]
    }
   ],
   "source": [
    "numberOfsamples = 50000\n",
    "y = []\n",
    "\n",
    "# TRANSMISOR: GENERADOR DE HIPOTESIS Y RUIDO #Cuidado, no es la misma función randit, cambia la librería a la que pertenece !!\n",
    "hypothesis = np.random.randint(0,2,numberOfsamples)                              #Aplicamos el método de Monte Carlo para hypotesís\n",
    "noise = np.random.randint(0,2,numberOfsamples)                                   #Aplicamos el método de Monte Carlo para ruido\n",
    "\n",
    "print(\"Impresión de las primeras 30 hipotesis transmitidas:\\n\",hypothesis[0:30])\n",
    "print(\"\\nImpresión de los primeros 30 ruidos transmitidos:\\n\",noise[0:30])\n",
    "\n",
    "# SALIDA DEL CANAL\n",
    "for i in range(numberOfsamples):\n",
    "    if hypothesis[i] + noise[i] == 0:\n",
    "        y.append(0)\n",
    "    elif hypothesis[i] + noise[i] == 1:\n",
    "        y.append(1)\n",
    "    else:                              # hypothesis[i] + noise[i] == 2:\n",
    "        y.append(2)\n",
    "print(\"\\nImpresión de las primeras 30 muestras observadas a la salida del canal:\\n\",y[1:30])"
   ]
  },
  {
   "cell_type": "markdown",
   "id": "97033754-b3b2-435a-a00a-c9e689c8863a",
   "metadata": {},
   "source": [
    "Se procede a decodificar el mensaje con el siguiente código:"
   ]
  },
  {
   "cell_type": "code",
   "execution_count": 6,
   "id": "729ebd3e-a4c9-4d7a-88f8-2aef73e2867a",
   "metadata": {},
   "outputs": [
    {
     "name": "stdout",
     "output_type": "stream",
     "text": [
      "\n",
      "Impresión de las primeras 30 hipotesis decodificadas por el receptor:\n",
      " [1, 1, 1, 1, 1, 1, 1, 0, 1, 1, 1, 1, 1, 0, 1, 1, 1, 1, 1, 0, 0, 0, 1, 1, 1, 0, 1, 1, 1]\n"
     ]
    }
   ],
   "source": [
    "# RECEPTOR: DECODIFICADOR DE HIPOTESIS\n",
    "threshold = 1 #Nivel de decisión\n",
    "hypothesis_decoded = [1 if y[i]>=threshold else 0 for i in range(numberOfsamples)]    #Decodifico el mensaje para saber si es 0 o 1\n",
    "print(\"\\nImpresión de las primeras 30 hipotesis decodificadas por el receptor:\\n\",hypothesis_decoded[1:30])"
   ]
  },
  {
   "cell_type": "code",
   "execution_count": 7,
   "id": "875f3659-2261-4011-8432-96cd120dfd2f",
   "metadata": {},
   "outputs": [
    {
     "name": "stdout",
     "output_type": "stream",
     "text": [
      "\n",
      "La Probabilidad de error en la decodificacion de la hipotesis es de:\n",
      " 0.25092\n"
     ]
    }
   ],
   "source": [
    "#Análisis de la calidad (desempeño) del receptor mediante su probabilidad de error (pe)\n",
    "pe = sum((hypothesis != hypothesis_decoded))/numberOfsamples    #Es el promedio de errores\n",
    "print(\"\\nLa Probabilidad de error en la decodificacion de la hipotesis es de:\\n\",pe)"
   ]
  },
  {
   "cell_type": "markdown",
   "id": "16a4a59c-af4c-4dd4-8fff-61a16ac01dfa",
   "metadata": {},
   "source": [
    "## Conclusión"
   ]
  },
  {
   "cell_type": "markdown",
   "id": "f56ad5bd-4be5-410b-b927-18e34ecbcc9a",
   "metadata": {},
   "source": [
    "- Primero, es que llegamos a obtener lo indicado por el aula virtual.\n",
    "- Segundo, podemos interpretar el resultado de Pe como que tenemos un error del $25$ por ciento. Es lógico ya que tomando un nivel de decisión mayor o igual a 1; el ruido solo afecta a una parte del evento B (teniendo en cuenta el gráfico) y se esta enviando información tanto en el evento B (1+0) como en el evento C (1+1). Para los demas casos solo es ruido y no es información.\n",
    "- Se agrego la corrección realizada en clase en donde se explico la probabilidad condiciónal. Se realizaron los gráficos respectivos, y se establecio un nivel de decisión en 1."
   ]
  },
  {
   "cell_type": "code",
   "execution_count": null,
   "id": "eed16944-2678-42f3-9e35-95c75f0ca125",
   "metadata": {},
   "outputs": [],
   "source": []
  }
 ],
 "metadata": {
  "kernelspec": {
   "display_name": "Python 3 (ipykernel)",
   "language": "python",
   "name": "python3"
  },
  "language_info": {
   "codemirror_mode": {
    "name": "ipython",
    "version": 3
   },
   "file_extension": ".py",
   "mimetype": "text/x-python",
   "name": "python",
   "nbconvert_exporter": "python",
   "pygments_lexer": "ipython3",
   "version": "3.11.7"
  }
 },
 "nbformat": 4,
 "nbformat_minor": 5
}
