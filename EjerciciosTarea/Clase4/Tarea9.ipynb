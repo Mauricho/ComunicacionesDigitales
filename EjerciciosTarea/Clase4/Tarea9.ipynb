{
 "cells": [
  {
   "cell_type": "markdown",
   "id": "37956521-7352-4ab1-8bfd-6f08b9bce545",
   "metadata": {},
   "source": [
    "# Cálculo del valor de decisión óptimo para el caso de una regla de decisión MAP en una observación continua"
   ]
  },
  {
   "cell_type": "code",
   "execution_count": 1,
   "id": "8be25bf5-6180-4466-9d3a-bcd9ee48b324",
   "metadata": {},
   "outputs": [],
   "source": [
    "#---------------------------------------------------------------------------------\n",
    "# Project    : Tarea N°9\n",
    "# Authors    : Mugni Juan Mauricio\n",
    "# Affiliation: UNC\n",
    "# E-mail     : mauricio.mugni@mi.unc.edu.ar\n",
    "#---------------------------------------------------------------------------------"
   ]
  },
  {
   "cell_type": "markdown",
   "id": "070b4295-49c2-480d-97e6-4a25e05db476",
   "metadata": {},
   "source": [
    "## Consigna"
   ]
  },
  {
   "cell_type": "markdown",
   "id": "910282fe-d16c-4dac-8a93-a82f4660cc1c",
   "metadata": {},
   "source": [
    "Considere una variable aleatoria $X \\in \\{ -1,3 \\} $, con probabilidades a priori $P_X(-1) = 0.4$ y $P_X(+3) = 0.6$. Dada una observación $y$ de la  observación $y$ de la variable aleatoria $Y = X +N$ , donde $N$ es una variable aleatoria gaussiana de media $\\mu = 0$ con varianza $\\psi ^2 = 0.4$, independientemente de $X$.\n",
    "- Encuentre el nivel de decisión para un detector MAP.\n",
    "- Calcule analíticamente la probabilidad de error $P_e$"
   ]
  },
  {
   "cell_type": "markdown",
   "id": "70bb3c76-ca94-459a-b1eb-5813cb570394",
   "metadata": {},
   "source": [
    "## Resolución\n"
   ]
  },
  {
   "cell_type": "markdown",
   "id": "501b4394-d46e-48f4-98f7-a6393b757c21",
   "metadata": {},
   "source": [
    "### Simulación de Monte Carlos"
   ]
  },
  {
   "cell_type": "markdown",
   "id": "6bbf5ed4-cf31-43b1-9019-bc1da2199037",
   "metadata": {},
   "source": [
    "Primero se importa las librerías a utilizar"
   ]
  },
  {
   "cell_type": "code",
   "execution_count": 7,
   "id": "2b2c65bf-b72f-42ea-a0bf-6908cb18aede",
   "metadata": {},
   "outputs": [],
   "source": [
    "import numpy as np\n",
    "import matplotlib.pyplot as plt"
   ]
  },
  {
   "cell_type": "markdown",
   "id": "170557da-c6c2-463f-a0a3-198000bbde96",
   "metadata": {},
   "source": [
    "Se definen los datos del problema:"
   ]
  },
  {
   "cell_type": "code",
   "execution_count": 9,
   "id": "f2038088-d544-4d1a-a9e8-24b6c5bd90af",
   "metadata": {},
   "outputs": [],
   "source": [
    "nb_samples = 100000                            # Se define la cantidad de muestras\n",
    "\n",
    "# Datos de la distribución del ruido\n",
    "media = 0                                      \n",
    "varianza = 0.4\n",
    "desviacion = np.sqrt(varianza)\n",
    "\n",
    "X1 = -1                                        # Como afecta a la media de la distribución normal \n",
    "X2 = 3 \n",
    "\n",
    "ref = 0.4                                      # Referencia para la probabilidad con que se genera -1 y 3"
   ]
  },
  {
   "cell_type": "markdown",
   "id": "9868f14d-8a54-4e7e-a81e-e89db1093341",
   "metadata": {},
   "source": [
    "Se crean los vectores que contendran $\\{ -1, 3 \\}$ con las probabilidades indicada, y a este se le suma el ruido con la distribución correspondiente."
   ]
  },
  {
   "cell_type": "code",
   "execution_count": 17,
   "id": "dc8542b0-0ad4-418c-9e05-f983f443b705",
   "metadata": {},
   "outputs": [],
   "source": [
    "z = np.random.uniform(size = nb_samples)       # Se crea un vector con variables aleatorias entre 0 y 1\n",
    "\n",
    "X = [X1 if z[i]<ref else X2 for i in range(len(z))]     # Se crea el vector que contiene Px(-1) con probabilidad 0.4\n",
    "                                                        # y Px(+3) con probabilidad 0.6            \n",
    "\n",
    "# Se simula la salida Y = X + H\n",
    "# Se le suma a cada variable aleatoria la variable aleatoria gaussiana \n",
    "Y = [np.random.normal(media + x, desviacion) for x in X]"
   ]
  },
  {
   "cell_type": "markdown",
   "id": "027c58ed-7eac-46af-b00e-7cc83620cff6",
   "metadata": {},
   "source": [
    "Se procede a graficar para visualizar como se centran ambas curvas en su media respectivamente, que son $\\{ -1,3 \\}$"
   ]
  },
  {
   "cell_type": "code",
   "execution_count": 18,
   "id": "9e8b86fb-2aa0-4513-8c59-7071a1f1c6e6",
   "metadata": {},
   "outputs": [
    {
     "data": {
      "image/png": "[encoded data removed]",
      "text/plain": [
       "<Figure size 640x480 with 1 Axes>"
      ]
     },
     "metadata": {},
     "output_type": "display_data"
    }
   ],
   "source": [
    "plt.hist(Y, bins=50, density=True, alpha=0.7, color='blue', edgecolor='black')\n",
    "plt.title('Histograma de la salida Y')\n",
    "plt.xlabel('Valor de Y')\n",
    "plt.ylabel('Frecuencia')\n",
    "plt.grid(True)\n",
    "plt.show()"
   ]
  },
  {
   "cell_type": "markdown",
   "id": "f4a48719-1faa-48e7-865f-6a69136398c1",
   "metadata": {
    "jp-MarkdownHeadingCollapsed": true
   },
   "source": [
    "### Nivel de decisión forma cualitativa"
   ]
  },
  {
   "cell_type": "markdown",
   "id": "cc34a029-ab72-44fb-b7ff-c393945c7805",
   "metadata": {},
   "source": [
    "Visualmente podemos ver como el nivel de decisión se encuentra en $1$ aproximadamente."
   ]
  },
  {
   "cell_type": "markdown",
   "id": "2f52b1ab-ecef-49b6-ab79-e43bfcbd7b4f",
   "metadata": {
    "jp-MarkdownHeadingCollapsed": true
   },
   "source": [
    "### Nivel de decisión forma cuantitativa"
   ]
  },
  {
   "cell_type": "markdown",
   "id": "37d175ba-2ca7-43e5-aff7-e95e81e49e74",
   "metadata": {},
   "source": [
    "Para tomar el nivel de decisión utilizando una regla MAP partimos de lo siguiente:\n",
    "$$\\frac{f_{Y|-1}(y|-1)P_H(-1)}{f_Y(y)}\\lesseqgtr\\frac{f_{Y|3}(y|3)P_H(3)}{f_Y(y)}$$\n",
    "$$f_{Y|-1}(y|-1)P_H(-1)\\lesseqgtr f_{Y|3}(y|3)P_H(3)$$\n",
    "Como $P_H(-1)\\neq P_H(3)$ entonces se debe conciderar cada una en el calculo. Tenemos una regla de decisión MAP.\n",
    "Y como el problema nos da $\\mu$ y $\\sigma$ concideramos una distribución Normal.\n",
    "- $\\quad H=3,\\quad Y \\sim P_{Y|H}(y|3)=\\frac{1}{\\sigma \\sqrt{2\\pi}}e^{-\\frac{(y-\\mu)^2}{2\\sigma^2}} = \\frac{1}{0.4 \\sqrt{2\\pi}}e^{-\\frac{(y-3)^2}{2(0.4)^2}}$\n",
    "- $\\quad H=-1,\\quad Y \\sim P_{Y|H}(y|-1)=\\frac{1}{\\sigma \\sqrt{2\\pi}}e^{-\\frac{(y-\\mu)^2}{2\\sigma^2}} = \\frac{1}{0.4 \\sqrt{2\\pi}}e^{-\\frac{(y-(-1))^2}{2(0.4)^2}}$\n",
    "\n",
    "  $$f_{Y|-1}(y|-1)P_H(-1)\\overset{\\hat{H}=-1}{\\underset{\\hat{H}=3}\\gtreqless}f_{Y|3}(y|3)P_H(3)$$\n",
    "\n",
    "Reemplazando, nos queda:\n",
    "$$\\frac{1}{0.4 \\sqrt{2\\pi}}e^{-\\frac{(y-(-1))^2}{2(0.4)^2}}0.4\\overset{\\hat{H}=-1}{\\underset{\\hat{H}=3}\\gtreqless}\\frac{1}{0.4 \\sqrt{2\\pi}}e^{-\\frac{(y-3)^2}{2(0.4)^2}}0.6$$\n",
    "\n",
    "$$-\\frac{(y-(-1))^2}{2(0.4)^2}0.4\\overset{\\hat{H}=-1}{\\underset{\\hat{H}=3}\\gtreqless}{-\\frac{(y-3)^2}{2(0.4)^2}}0.6$$\n",
    "\n",
    "$$(y+1)^2 0.4\\overset{\\hat{H}=-1}{\\underset{\\hat{H}=3}\\gtreqless}(y-3)^2 0.6$$\n",
    "\n",
    "$$\\frac{(y+1)^2}{(y-3)^2}\\overset{\\hat{H}=-1}{\\underset{\\hat{H}=3}\\gtreqless}\\frac{0.6}{0.4}$$\n",
    "\n",
    "$$\\frac{y^2+2y+1}{y^2-6y+9}\\overset{\\hat{H}=-1}{\\underset{\\hat{H}=3}\\gtreqless}\\frac{0.6}{0.4}$$\n",
    "\n",
    "$$y^2+2y+1\\overset{\\hat{H}=-1}{\\underset{\\hat{H}=3}\\gtreqless}\\frac{0.6}{0.4}(y^2-6y+9)$$\n",
    "\n",
    "$$0\\overset{\\hat{H}=-1}{\\underset{\\hat{H}=3}\\gtreqless}1.5y^2-9y+12.5-y^2-2y$$\n",
    "\n",
    "$$0\\overset{\\hat{H}=-1}{\\underset{\\hat{H}=3}\\gtreqless}0.5y^2-11y+12.5$$\n",
    "\n",
    "$$0\\overset{\\hat{H}=-1}{\\underset{\\hat{H}=3}\\gtreqless}(y-1.202)(y-20.798)$$\n",
    "\n",
    "Podemos ver que obtengo dos soluciones ya que se resolvio una ecuación cuadratica, en este caso nos quedamos con la solución que nos interesa y que se aproxima a la decisión de manera cualitativa.\n",
    "\n",
    "$$y = 1.202$$\n",
    "\n",
    "Llegamos a la conclusión de que valores mayores a $1.202$ estamos en presencia de la hipotesís $H=3$ y para valores menores en la hipotesís $H=-1$."
   ]
  },
  {
   "cell_type": "markdown",
   "id": "52e149dd-efb2-48ba-b0de-28837c069f8e",
   "metadata": {
    "jp-MarkdownHeadingCollapsed": true
   },
   "source": [
    "### Probabilidad de error"
   ]
  },
  {
   "cell_type": "markdown",
   "id": "c48012a2-2968-4eeb-8bc3-2a08f770ea31",
   "metadata": {},
   "source": [
    "Tomando el nivel de decisión calculado anteriormente:\n",
    "$$1.202$$\n",
    "La probabilidad de error de $H=-1$ es:\n",
    "$$P_e(-1)=P_r\\{y<1.202|H=-1\\}=\\int_{-\\infty}^{1.202} f_{Y|H}(y|3) \\,dy $$\n",
    "$$ = \\int_{-\\infty}^{1.202} \\frac{1}{\\sigma \\sqrt{2\\pi}}e^{-\\frac{(y-\\mu)^2}{2 \\sigma^2}}\\,dy $$\n",
    "$$ = \\int_{-\\infty}^{1.202} \\frac{1}{\\sqrt{0.4 \\ 2\\pi}}e^{-\\frac{(y-3)^2}{2 \\ 0.4}}\\,dy $$\n",
    "Tener en cuenta que se esta analizando la curva de $H=3$ para cuando estamos eligiendo $H=-1$ por eso $\\mu = 3$\n",
    "$$ P_e(-1)= 0.0022353 $$\n",
    "Ahora, la probabilidad de error de $H=3$ es:\n",
    "$$P_e(3)=P_r\\{y>1.202|H=3\\}=\\int_{1.202}^{\\infty} f_{Y|H}(y|-1) \\,dy $$\n",
    "$$ = \\int_{1.202}^{\\infty} \\frac{1}{\\sigma \\sqrt{2\\pi}}e^{-\\frac{(y-\\mu)^2}{2 \\sigma^2}}\\,dy $$\n",
    "$$ = \\int_{1.202}^{\\infty} \\frac{1}{\\sqrt{0.4 \\ 2\\pi}}e^{-\\frac{(y-(-1))^2}{2 \\ 0.4}}\\,dy $$\n",
    "Tener en cuenta que se esta analizando la curva de $H=-1$ para cuando estamos eligiendo $H=3$ por eso $\\mu = -1$\n",
    "$$ P_e(3)= 0.000249 $$\n",
    "Entonces, la probabilidad total de error va a ser, la probabilidad de que cada hipotesís ocurra (probabilidad de la fuente) por la probabilidad de error de cada hipotesís:\n",
    "$$P_{eTotal} = P_e(-1)P_H(-1) + P_e(3)P_H(3)$$\n",
    "$$P_{eTotal} = 0.0022353 \\ 0.4 + 0.000249 \\ 0.6$$\n",
    "$$P_{eTotal} \\approx 0.001$$\n",
    "Es decir estamos teniendo un error de $0.1 \\%$"
   ]
  },
  {
   "cell_type": "code",
   "execution_count": null,
   "id": "4622ae4d-9cdf-4e35-9c51-8d88ddf73aad",
   "metadata": {},
   "outputs": [],
   "source": []
  }
 ],
 "metadata": {
  "kernelspec": {
   "display_name": "Python 3 (ipykernel)",
   "language": "python",
   "name": "python3"
  },
  "language_info": {
   "codemirror_mode": {
    "name": "ipython",
    "version": 3
   },
   "file_extension": ".py",
   "mimetype": "text/x-python",
   "name": "python",
   "nbconvert_exporter": "python",
   "pygments_lexer": "ipython3",
   "version": "3.11.7"
  }
 },
 "nbformat": 4,
 "nbformat_minor": 5
}
