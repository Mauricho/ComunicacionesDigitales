{
 "cells": [
  {
   "cell_type": "markdown",
   "id": "8a99d974-1d37-46e5-be3a-190cce2e93e4",
   "metadata": {},
   "source": [
    "# Cálculo del valor de decisión óptimo para el caso de una regla de decisión MPA de una observación discreta"
   ]
  },
  {
   "cell_type": "code",
   "execution_count": 2,
   "id": "05370556-1c68-48dd-850b-c19dc3bc71e3",
   "metadata": {},
   "outputs": [],
   "source": [
    "#---------------------------------------------------------------------------------\n",
    "# Project    : Tarea N°7\n",
    "# Authors    : Mugni Juan Mauricio\n",
    "# Affiliation: UNC\n",
    "# E-mail     : mauricio.mugni@mi.unc.edu.ar\n",
    "#---------------------------------------------------------------------------------"
   ]
  },
  {
   "cell_type": "markdown",
   "id": "c2df10a8-3214-4fa1-bc97-7049c17380e9",
   "metadata": {},
   "source": [
    "## Consigna"
   ]
  },
  {
   "cell_type": "markdown",
   "id": "bfb2040d-ceae-40cf-8aa3-8d1fd5ee67a3",
   "metadata": {},
   "source": [
    "Adjunte una Jupyter Notebook en donde:\n",
    "- Quede expresado el desarrollo matemático que permite obtener el valor del nivel de decisión para el caso del ejemplo planteado en la clase, pero esta vez para una regla de decisión MAP con valores de intensidad de $\\lambda_0 = 1$ y $\\lambda_1 = 3$ y con probabilidades de hipótesis $P_H(0) = 0.7$ y $P_H(1)=0.3$.\n",
    "- Genere una simulación Monte Carlo del problema para obtener la probabilidad de error cuando se utiliza el nivel de decisión obtenido en el punto anterior.\n",
    "- Cambie el nivel de decisión por el valor obtenido para el caso ML (modifique solo ese valor) y compare el resultado con el valor de probabilidad de error obtenido en el punto anterior. Saque conclusiones de la observación."
   ]
  },
  {
   "cell_type": "markdown",
   "id": "a5abbcfe-df08-4dd5-b3e5-9c2804512df3",
   "metadata": {},
   "source": [
    "## Resolución"
   ]
  },
  {
   "cell_type": "markdown",
   "id": "22ea8877-0f04-47e8-b4e7-c1a4ccd57f6a",
   "metadata": {},
   "source": [
    "### Analisís Matemático"
   ]
  },
  {
   "cell_type": "markdown",
   "id": "7c94208a-1c14-4230-9e57-655c4e849eaf",
   "metadata": {},
   "source": [
    "A partir de la definición de MAP para una prueba de Hipotesís Binaria:\n",
    "$$\\frac{f_{Y|1}(y|1)P_H(1)}{f_Y(y)}\\lesseqgtr\\frac{f_{Y|0}(y|0)P_H(0)}{f_Y(y)}$$\n",
    "$$f_{Y|1}(y|1)P_H(1)\\lesseqgtr f_{Y|0}(y|0)P_H(0)$$\n",
    "Como $P_H(1)\\neq P_H(0)$ entonces se debe conciderar cada una en el calculo. Tenemos una regla de decisión MAP.\n",
    "Y como el problema nos da $\\lambda$ concideramos una distribución de Poisson.\n",
    "- $\\quad H=0,\\quad Y \\sim P_{Y|H}(y|0)=\\frac{λ_0^y}{y!}e^{-λ_0} = \\frac{1^y}{y!}e^{-1}$\n",
    "- $\\quad H=1,\\quad Y \\sim P_{Y|H}(y|1)=\\frac{λ_1^y}{y!}e^{-λ_1} = \\frac{3^y}{y!}e^{-3}$\n",
    "\n",
    "  $$f_{Y|1}(y|1)P_H(1)\\overset{\\hat{H}=1}{\\underset{\\hat{H}=0}\\gtreqless}f_{Y|0}(y|0)P_H(0)$$\n",
    "\n",
    "Reemplazando, nos queda:\n",
    "$$\\frac{3^y}{y!}e^{-3}0.3\\overset{\\hat{H}=1}{\\underset{\\hat{H}=0}\\gtreqless}\\frac{1^y}{y!}e^{-1}0.7$$\n",
    "\n",
    "$$3^ye^{-3}0.3\\overset{\\hat{H}=1}{\\underset{\\hat{H}=0}\\gtreqless}1^ye^{-1}0.7$$\n",
    "\n",
    "$$3^ye^{-3}0.3\\overset{\\hat{H}=1}{\\underset{\\hat{H}=0}\\gtreqless}e^{-1}0.7$$\n",
    "\n",
    "$$3^ye^{-2}\\overset{\\hat{H}=1}{\\underset{\\hat{H}=0}\\gtreqless}\\frac{0.7}{0.3}$$\n",
    "\n",
    "$$3^y\\overset{\\hat{H}=1}{\\underset{\\hat{H}=0}\\gtreqless}\\frac{0.7}{0.3}e^2$$\n",
    "\n",
    "$$y\\overset{\\hat{H}=1}{\\underset{\\hat{H}=0}\\gtreqless}log_3 ({\\frac{0.7}{0.3}e^2})$$\n",
    "Obtengo:\n",
    "\n",
    "$$y\\overset{\\hat{H}=1}{\\underset{\\hat{H}=0}\\gtreqless}2.5917$$"
   ]
  },
  {
   "cell_type": "markdown",
   "id": "03fc1726-0677-4d18-b6c8-3fa8c8686187",
   "metadata": {},
   "source": [
    "### Simulación Monte Carlos"
   ]
  },
  {
   "cell_type": "markdown",
   "id": "61cfe0b2-ac06-4e58-a4d4-320929d3f492",
   "metadata": {},
   "source": [
    "Importamos las siguientes librerías:"
   ]
  },
  {
   "cell_type": "code",
   "execution_count": 2,
   "id": "040d147a-0134-4136-bbb8-19e898a3084f",
   "metadata": {},
   "outputs": [],
   "source": [
    "import random\n",
    "import numpy as np\n",
    "import matplotlib.pyplot as plt"
   ]
  },
  {
   "cell_type": "markdown",
   "id": "beebc3a4-1e9b-4112-a64f-5dfba442a67d",
   "metadata": {},
   "source": [
    "Realizamos una simulación del problema utilizando para ello dos generadores de variables de distribución de Poisson parametrizado cada uno ellos con un valor distinto de intensidad $λ$. A continuación grafiquemos en una misma figura los histogramas de la variable aleatoria $Y$ para cada una de las hipótesis $H$ transmitidas. Se puede considerar a estos histogramas como representaciones de las funciones densidad de probabilida $f_{Y|H}(y|1)$ y $f_{Y|H}(y|0)$"
   ]
  },
  {
   "cell_type": "code",
   "execution_count": 18,
   "id": "c6eba53e-bb08-4a6b-ae13-007cd365750f",
   "metadata": {},
   "outputs": [
    {
     "data": {
      "image/png": "[encoded data removed]",
      "text/plain": [
       "<Figure size 1500x500 with 1 Axes>"
      ]
     },
     "metadata": {},
     "output_type": "display_data"
    }
   ],
   "source": [
    "lambda0 = 1\n",
    "lambda1 = 3\n",
    "numberOfsamples = 100000\n",
    "\n",
    "# Analizando la estadística\n",
    "h0 =  np.random.poisson(lambda0, numberOfsamples)\n",
    "h1 = np.random.poisson(lambda1, numberOfsamples)\n",
    "\n",
    "plt.figure(figsize=(15,5))\n",
    "plt.hist(h0,bins = 10, range = (0,10), density = True , width = 0.3, align='mid', alpha = 0.4, label=\"$H_0$\")\n",
    "plt.hist(h1, bins = 10 , range = (0,10), density = True , width =0.3, align='mid', alpha = 0.4, label=\"$H_1$\")\n",
    "plt.xlabel('y')\n",
    "plt.xticks(range(0, 11))\n",
    "plt.ylabel('Amplitud')\n",
    "plt.legend()\n",
    "plt.title('Histograma normalizado')\n",
    "plt.grid()\n",
    "plt.show()"
   ]
  },
  {
   "cell_type": "markdown",
   "id": "a15f463d-415d-44f4-b90b-7e9613da240c",
   "metadata": {},
   "source": [
    "Para calcular la probabilidad de error cuando se utiliza el nivel de decisión del punto anterior, realizamos lo siguiente:"
   ]
  },
  {
   "cell_type": "code",
   "execution_count": 19,
   "id": "8bf9e96a-fd24-4c3b-b612-be49973eaf41",
   "metadata": {},
   "outputs": [
    {
     "name": "stdout",
     "output_type": "stream",
     "text": [
      "La Probabilidad de Error Total es: 0.18359\n"
     ]
    }
   ],
   "source": [
    "ref = 2.5917 #Nivel de decisión\n",
    "Pe0 = [1 if h0[i]>=ref else 0 for i in range(len(h0))]\n",
    "Pe1 = [1 if h1[i]<ref else 0 for i in range(len(h1))]\n",
    "\n",
    "PET = (sum(Pe0)*0.7 + sum(Pe1)*0.3)/numberOfsamples #ProbabilidadErrorTotal\n",
    "\n",
    "print(\"La Probabilidad de Error Total es:\", PET)"
   ]
  },
  {
   "cell_type": "markdown",
   "id": "6827bb47-b45b-4b78-87ae-2423f81966d4",
   "metadata": {},
   "source": [
    "Como podemos ver tomando un nivel de decisión de $2.5917$ el error de que se decida por alguna de las hipotesís y se cometa un error es del $18\\% $ aproximadamente."
   ]
  },
  {
   "cell_type": "markdown",
   "id": "cca98d06-cf68-4a4d-85ff-e7cd7db8c999",
   "metadata": {},
   "source": [
    "### Cambiamos el nivel de decisión"
   ]
  },
  {
   "cell_type": "markdown",
   "id": "25ebc17f-7116-4d15-afdf-51d8d3d7e89a",
   "metadata": {},
   "source": [
    "Como se mostro en tareas anteriores, para el caso de máxima verosimilitud, teniamos:\n",
    "\n",
    "$$\\frac{3^y}{y!}e^{-3}\\overset{\\hat{H}=1}{\\underset{\\hat{H}=0}\\gtreqless}\\frac{1^y}{y!}e^{-1}$$\n",
    "\n",
    "$$\\frac{3^y}{1^y}\\overset{\\hat{H}=1}{\\underset{\\hat{H}=0}\\gtreqless}\\frac{e^{-1}}{e^{-3}}$$\n",
    "\n",
    "\n",
    "$$3^y\\overset{\\hat{H}=1}{\\underset{\\hat{H}=0}\\gtreqless}e^{2}$$\n",
    "\n",
    "$$log_3 3^y\\overset{\\hat{H}=1}{\\underset{\\hat{H}=0}\\gtreqless}log_3 e^{2}$$\n",
    "\n",
    "$$y\\overset{\\hat{H}=1}{\\underset{\\hat{H}=0}\\gtreqless}log_3 e^{2}$$\n",
    "\n",
    "Obtengo:\n",
    "\n",
    "$$y\\overset{\\hat{H}=1}{\\underset{\\hat{H}=0}\\gtreqless}1.8$$\n"
   ]
  },
  {
   "cell_type": "code",
   "execution_count": 21,
   "id": "66f7395d-15af-44a9-b06c-5c31b9c31432",
   "metadata": {},
   "outputs": [
    {
     "name": "stdout",
     "output_type": "stream",
     "text": [
      "La Probabilidad de Error Total es: 0.244753\n"
     ]
    }
   ],
   "source": [
    "ref = 1.8 #Nivel de decisión\n",
    "Pe0 = [1 if h0[i]>=ref else 0 for i in range(len(h0))]\n",
    "Pe1 = [1 if h1[i]<ref else 0 for i in range(len(h1))]\n",
    "\n",
    "PET = (sum(Pe0)*0.7 + sum(Pe1)*0.3)/numberOfsamples #ProbabilidadErrorTotal\n",
    "\n",
    "print(\"La Probabilidad de Error Total es:\", PET)"
   ]
  },
  {
   "cell_type": "markdown",
   "id": "a38b57b6-e889-4b22-aa0e-73d9c7155411",
   "metadata": {},
   "source": [
    "Al compararlo con el resultado anterior vemos un incremento  del error, ahora es del $24\\%$ para un nivel de decisión de $1.8$.\n",
    "Esto se debe a que no estamos conciderando la probabilidad de cada una de las hipotesís, es decir, las tomamos como equiprobables. "
   ]
  },
  {
   "cell_type": "code",
   "execution_count": null,
   "id": "9c653779-ea49-4372-8954-c3e46f56d21d",
   "metadata": {},
   "outputs": [],
   "source": []
  }
 ],
 "metadata": {
  "kernelspec": {
   "display_name": "Python 3 (ipykernel)",
   "language": "python",
   "name": "python3"
  },
  "language_info": {
   "codemirror_mode": {
    "name": "ipython",
    "version": 3
   },
   "file_extension": ".py",
   "mimetype": "text/x-python",
   "name": "python",
   "nbconvert_exporter": "python",
   "pygments_lexer": "ipython3",
   "version": "3.11.7"
  }
 },
 "nbformat": 4,
 "nbformat_minor": 5
}
