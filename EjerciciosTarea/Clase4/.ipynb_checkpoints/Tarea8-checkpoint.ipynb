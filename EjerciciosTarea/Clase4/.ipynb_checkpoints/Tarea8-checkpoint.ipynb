{
 "cells": [
  {
   "cell_type": "markdown",
   "id": "09684d5f-a76b-4583-8c12-f0f9c656fdd8",
   "metadata": {},
   "source": [
    "# Cálculo del valor de decisión óptimo para el caso de una regla de decisión MAP en una observación discreta"
   ]
  },
  {
   "cell_type": "code",
   "execution_count": 1,
   "id": "89c6ebb0-3863-4319-a13d-302be154882e",
   "metadata": {},
   "outputs": [],
   "source": [
    "#---------------------------------------------------------------------------------\n",
    "# Project    : Tarea N°8\n",
    "# Authors    : Mugni Juan Mauricio\n",
    "# Affiliation: UNC\n",
    "# E-mail     : mauricio.mugni@mi.unc.edu.ar\n",
    "#---------------------------------------------------------------------------------"
   ]
  },
  {
   "cell_type": "markdown",
   "id": "9289cd35-363c-42b9-b90d-e29cf8365e74",
   "metadata": {},
   "source": [
    "## Consigna"
   ]
  },
  {
   "cell_type": "markdown",
   "id": "0002da03-2e89-4cac-8505-cc943533c010",
   "metadata": {},
   "source": [
    "Suponga que se transmite un símbolo binario $A \\in \\{ 0,1 \\}$ con probabilidades a priori $P_A(0)=q$ y $P_A(1)=1-q$ a través de un canal BSC. La observación $Y \\in \\{ 0,1 \\}$ también es binaria e igual a A con probabilidad $1-p$.\n",
    "- Encuentre cualitativamente la regla de decisión MAP para el caso de $q = 0.9$ y $p = 0.2$\n",
    "- Encuetre cualitativamente la regla de decisión MAP para el caso de $q = 0.5$ y $p = 0.3$\n",
    "- A diferencia del caso ML, si suma todas las barras del histograma obtenido no va a obtener como resultado 1. ¿Puede intuir a que se debe?\n",
    "- En cual de los casos (puto 1 o punto 2) esta regla de decisión es óptima? dicho en otras palabras, cuando esta regla de decisión produce la misma probabilidad de error?\n",
    "- Realice y adjunte la simulación Monte Carlo del problema."
   ]
  },
  {
   "cell_type": "markdown",
   "id": "234bf049-c2f3-49e2-ad43-96d56df90d77",
   "metadata": {},
   "source": [
    "## Resolución"
   ]
  },
  {
   "cell_type": "markdown",
   "id": "35a0fc4d-82c6-4327-83a7-4558ae5b6ead",
   "metadata": {},
   "source": [
    "Para la resolución de este ejercicio se tuvo en cuenta la siguiente imagen:\n",
    "| ![](imageTarea5.png) | \n",
    "|:--:| \n",
    "|Fig. 1: A schematic diagram of the binary symmetric channel (BSC), wich flips bits with probability $p$.|\n",
    "\n",
    "La cual fue empleada en ejercicios anteriores para la resolución de un problema similar.\n"
   ]
  },
  {
   "cell_type": "markdown",
   "id": "d6bcaa43-e7bf-4f30-88b0-a38daf80a76f",
   "metadata": {},
   "source": [
    "A partir del esquema podemos determinar:\n",
    "\n",
    "$P_{Y|H}(0|0) = 1-p $ Probabilidad de que la salida sea 0 para cuando la entrada es 0 si la fuente fuera equiprobable\n",
    "\n",
    "$P_{Y|H}(1|0) = p $   Probabilidad de que la salida sea 1 para cuando la hipotesís es 0 si la fuente fuera equiprobable\n",
    "\n",
    "$P_{Y|H}(0|1) = p $   Probabilidad de que la salida sea 0 para cuando la hipotesís es 1 si la fuente fuera equiprobable\n",
    "\n",
    "$P_{Y|H}(1|1) = 1-p $ Probabilidad de que la salida sea 1 para cuando la hipotesís es 1 si la fuente fuera equiprobable\n",
    "\n",
    "Como la probabilidad de la fuente no es equiprobable, debemos multiplicar por la probabilidad de la fuente:\n",
    "\n",
    "$P_A(0)P_{Y|H}(0|0) = q.(1-p) $\n",
    "\n",
    "$P_A(0)P_{Y|H}(1|0) = q.p $\n",
    "\n",
    "$P_A(1)P_{Y|H}(0|1) = (1-q).p $   \n",
    "\n",
    "$P_A(1)P_{Y|H}(1|1) = (1-q).(1-p) $"
   ]
  },
  {
   "cell_type": "markdown",
   "id": "b3096339-d668-4b2f-b696-1e47da03ce26",
   "metadata": {
    "jp-MarkdownHeadingCollapsed": true
   },
   "source": [
    "### Simulación Monte Carlo para el caso $q=0.9$ y $p=0.2$"
   ]
  },
  {
   "cell_type": "markdown",
   "id": "fad6b80c-6c54-4581-a0ce-a95d1dc5e4d8",
   "metadata": {},
   "source": [
    "Podemos graficar la distribución de probabilidad para cada hipotesís. Para esto primero importamos las siguientes librerías, que servirán para el siguiente código:"
   ]
  },
  {
   "cell_type": "code",
   "execution_count": 3,
   "id": "6f8b100a-a3df-4270-8bfb-45b5adfa73a3",
   "metadata": {},
   "outputs": [],
   "source": [
    "import random\n",
    "import numpy as np\n",
    "import matplotlib.pyplot as plt"
   ]
  },
  {
   "cell_type": "markdown",
   "id": "cf8110d2-b929-477d-9d94-40048c2e2d55",
   "metadata": {},
   "source": [
    "A continuación desarrollamos el código para llevar a cabo la simulación de lo antes analizado."
   ]
  },
  {
   "cell_type": "code",
   "execution_count": 49,
   "id": "a1792bf5-ee75-40ad-9907-6f773ee3fc44",
   "metadata": {},
   "outputs": [],
   "source": [
    "def calcular_probabilidad(num_simulaciones,p,q):\n",
    "    \n",
    "    contador00 = 0       # Probabilidad de que la salida sea 0 para cuando la hipotesís es 0\n",
    "    contador10 = 0       # Probabilidad de que la salida sea 1 para cuando la hipotesís es 0\n",
    "\n",
    "    contador01 = 0       # Probabilidad de que la salida sea 0 para cuando la hipotesís es 1\n",
    "    contador11 = 0       # Probabilidad de que la salida sea 1 para cuando la hipotesís es 1\n",
    "    \n",
    "    probabilidadA = 1 - p # Probabilidad del evento A: P(0|0) = P(1|1) = 1 - p\n",
    "    probabilidadB = p     # Probabilidad del evento B: P(0|1) = P(1|0) = p\n",
    "\n",
    "    P_A0 = q              # Probabilidad de que sea 0\n",
    "    P_A1 = 1 - q          # Probabilidad de que sea 1 \n",
    "    \n",
    "    for i in range(num_simulaciones):\n",
    "        \n",
    "        N = random.random()      # Genera un número aleatorio entre 0 y 1\n",
    "\n",
    "        #H = 0                   #Hipotesís\n",
    "        if N < P_A1*probabilidadB:\n",
    "            contador01 += 1\n",
    "        elif N < P_A1*probabilidadA:\n",
    "            contador11 += 1\n",
    "        #H = 1                   #Hipotesís\n",
    "        elif N < P_A0*probabilidadB:\n",
    "            contador10 += 1\n",
    "        else:           \n",
    "            contador00 += 1\n",
    "\n",
    "    prob00 = contador00 / num_simulaciones    #Probabilidad de P(0|0)\n",
    "    prob10 = contador10 / num_simulaciones    #Probabilidad de P(1|0)\n",
    "    prob01 = contador01 / num_simulaciones    #Probabilidad de P(0|1)\n",
    "    prob11 = contador11 / num_simulaciones    #Probabilidad de P(1|1)\n",
    "\n",
    "    # Datos de la tirada\n",
    "    etiquetas = ['$Y=0$', '$Y=1$']\n",
    "    datos_H0 = [prob00, prob10]\n",
    "    datos_H1 = [prob01, prob11]\n",
    "\n",
    "    colores = ['blue', 'blue', 'red', 'red']  # Asignando colores según hipótesis\n",
    "\n",
    "    # Crear el histograma con etiquetas y colores\n",
    "    plt.bar(etiquetas, datos_H0, color='blue', alpha=0.5, label='H=0')\n",
    "    plt.bar(etiquetas, datos_H1, color='red', alpha=0.5, label='H=1')\n",
    "\n",
    "    return (prob00,prob10,prob01,prob11)"
   ]
  },
  {
   "cell_type": "markdown",
   "id": "c5a34dcb-aa96-4a23-8353-eaa9e66027ce",
   "metadata": {},
   "source": [
    "Grafico el resultado para el caso de $q = 0.9$ y $p = 0.2$"
   ]
  },
  {
   "cell_type": "code",
   "execution_count": 50,
   "id": "301d9733-3355-40ae-a05f-2c437a11deca",
   "metadata": {},
   "outputs": [
    {
     "name": "stdout",
     "output_type": "stream",
     "text": [
      "Probabilidad de que la salida sea 0 para cuando la hipotesís es 0: 0.8199697 \n",
      "Probabilidad de que la salida sea 1 para cuando la hipotesís es 0: 0.0999262 \n",
      "Probabilidad de que la salida sea 0 para cuando la hipotesís es 1: 0.020116 \n",
      "Probabilidad de que la salida sea 1 para cuando la hipotesís es 1: 0.0599881 \n",
      "Suma de probabilidades: 1.0 \n",
      "\n"
     ]
    },
    {
     "data": {
      "image/png": "[encoded data removed]",
      "text/plain": [
       "<Figure size 640x480 with 1 Axes>"
      ]
     },
     "metadata": {},
     "output_type": "display_data"
    }
   ],
   "source": [
    "num_simulaciones = 10**7 #int(input(\"Ingrese el número de simulaciones: \"))\n",
    "p = 0.2\n",
    "q = 0.9\n",
    "\n",
    "results = calcular_probabilidad(num_simulaciones,p,q)\n",
    "\n",
    "print(f'Probabilidad de que la salida sea 0 para cuando la hipotesís es 0: {results[0]} \\n'\n",
    "f'Probabilidad de que la salida sea 1 para cuando la hipotesís es 0: {results[1]} \\n'\n",
    "f'Probabilidad de que la salida sea 0 para cuando la hipotesís es 1: {results[2]} \\n'\n",
    "f'Probabilidad de que la salida sea 1 para cuando la hipotesís es 1: {results[3]} \\n'\n",
    "f'Suma de probabilidades: {results[0] + results[1] + results[2] + results[3]} \\n')\n",
    "\n",
    "plt.title('Histograma de la distribución de probabilidad')\n",
    "plt.ylabel('Probabilidad')\n",
    "plt.legend(['$H_0$', '$H_1$'])\n",
    "plt.tight_layout()\n",
    "plt.show()"
   ]
  },
  {
   "cell_type": "markdown",
   "id": "a5145788-3557-4546-ad2c-8fc6118dcd10",
   "metadata": {},
   "source": [
    "En este caso podemos tomar de manera cualitativa el siguiente criterio de decisión, si es igual o mayor a 1, se esta enviando un 1. En cambio, si es menor se esta enviando un cero.\n",
    "Y podemos ver que si tenemos cero, la probabilidad de que se este enviando un uno es baja.\n",
    "En cambio, si tenemos uno, la probabilidad de que sea cero es alta. En uno es más probable que se este enviando 0 que uno."
   ]
  },
  {
   "cell_type": "markdown",
   "id": "ffa5785d-b933-4607-ba09-37d22e2a6af4",
   "metadata": {},
   "source": [
    "### Simulación Monte Carlo para el caso $q=0.5$ y $p=0.3$"
   ]
  },
  {
   "cell_type": "markdown",
   "id": "b6d30898-d81d-4ae0-b61f-fa2e5356ef39",
   "metadata": {},
   "source": [
    "Realizamos los cambios pertinentes en la función definida anteriormente para realizar el gráfico para el caso de $q = 0.5$ y $p = 0.3$"
   ]
  },
  {
   "cell_type": "code",
   "execution_count": 4,
   "id": "751085c2-60c3-42ee-a848-e7f7b86745a2",
   "metadata": {},
   "outputs": [],
   "source": [
    "def calcular_probabilidad(num_simulaciones,p,q):\n",
    "    \n",
    "    contador00 = 0       # Probabilidad de que la salida sea 0 para cuando la hipotesís es 0\n",
    "    contador10 = 0       # Probabilidad de que la salida sea 1 para cuando la hipotesís es 0\n",
    "\n",
    "    contador01 = 0       # Probabilidad de que la salida sea 0 para cuando la hipotesís es 1\n",
    "    contador11 = 0       # Probabilidad de que la salida sea 1 para cuando la hipotesís es 1\n",
    "    \n",
    "    probabilidadA = 1 - p # Probabilidad del evento A: P(0|0) = P(1|1) = 1 - p\n",
    "    probabilidadB = p     # Probabilidad del evento B: P(0|1) = P(1|0) = p\n",
    "\n",
    "    P_A0 = q              # Probabilidad de que sea 0\n",
    "    P_A1 = 1 - q          # Probabilidad de que sea 1 \n",
    "    \"\"\"\n",
    "    for i in range(num_simulaciones):\n",
    "        \n",
    "        N = random.random()      # Genera un número aleatorio entre 0 y 1\n",
    "\n",
    "        if N < P_A0*probabilidadB:\n",
    "            contador10 += 1\n",
    "        elif N < P_A0*probabilidadA:\n",
    "            contador00 += 1   \n",
    "        \n",
    "        M = random.random()\n",
    "        \n",
    "        if M < P_A1*probabilidadB:\n",
    "            contador01 += 1\n",
    "        elif M < P_A1*probabilidadA:          \n",
    "            contador11 += 1\n",
    "     \"\"\"       \n",
    "    \n",
    "    for i in range(num_simulaciones):\n",
    "        \n",
    "        N = random.random()      # Genera un número aleatorio entre 0 y 1\n",
    "\n",
    "        if N < P_A0:\n",
    "            M = random.random()\n",
    "            if M < probabilidadB:\n",
    "                contador10 += 1\n",
    "            else:\n",
    "                contador00 += 1 \n",
    "\n",
    "        else:    \n",
    "            R = random.random()\n",
    "            if R < probabilidadB:\n",
    "                contador01 += 1\n",
    "            else:\n",
    "                contador11 += 1\n",
    "            \n",
    "    prob00 = contador00 / num_simulaciones    #Probabilidad de P(0|0)\n",
    "    prob10 = contador10 / num_simulaciones    #Probabilidad de P(1|0)\n",
    "    prob01 = contador01 / num_simulaciones    #Probabilidad de P(0|1)\n",
    "    prob11 = contador11 / num_simulaciones    #Probabilidad de P(1|1)\n",
    "\n",
    "    # Datos de la tirada\n",
    "    etiquetas = ['$Y=0$', '$Y=1$']\n",
    "    datos_H0 = [prob00, prob10]\n",
    "    datos_H1 = [prob01, prob11]\n",
    "\n",
    "    colores = ['blue', 'blue', 'red', 'red']  # Asignando colores según hipótesis\n",
    "\n",
    "    # Crear el histograma con etiquetas y colores\n",
    "    plt.bar(etiquetas, datos_H0, color='blue', alpha=0.5, label='H=0')\n",
    "    plt.bar(etiquetas, datos_H1, color='red', alpha=0.5, label='H=1')\n",
    "\n",
    "    return (prob00,prob10,prob01,prob11)"
   ]
  },
  {
   "cell_type": "markdown",
   "id": "6ea5822d-7c11-43e3-8f95-1a8843af2869",
   "metadata": {},
   "source": [
    "Grafico el resultado para el caso de $q = 0.5$ y $p = 0.3$"
   ]
  },
  {
   "cell_type": "code",
   "execution_count": 5,
   "id": "bd428a75-ec17-4ea1-8d3a-477585f10e7f",
   "metadata": {},
   "outputs": [
    {
     "name": "stdout",
     "output_type": "stream",
     "text": [
      "Probabilidad de que la salida sea 0 para cuando la hipotesís es 0: 0.350056 \n",
      "Probabilidad de que la salida sea 1 para cuando la hipotesís es 0: 0.1500878 \n",
      "Probabilidad de que la salida sea 0 para cuando la hipotesís es 1: 0.1500555 \n",
      "Probabilidad de que la salida sea 1 para cuando la hipotesís es 1: 0.3498007 \n",
      "Suma de probabilidades: 1.0 \n",
      "\n"
     ]
    },
    {
     "data": {
      "image/png": "[encoded data removed]",
      "text/plain": [
       "<Figure size 640x480 with 1 Axes>"
      ]
     },
     "metadata": {},
     "output_type": "display_data"
    }
   ],
   "source": [
    "num_simulaciones = 10**7 #int(input(\"Ingrese el número de simulaciones: \"))\n",
    "p = 0.3\n",
    "q = 0.5\n",
    "\n",
    "results = calcular_probabilidad(num_simulaciones,p,q)\n",
    "\n",
    "print(f'Probabilidad de que la salida sea 0 para cuando la hipotesís es 0: {results[0]} \\n'\n",
    "f'Probabilidad de que la salida sea 1 para cuando la hipotesís es 0: {results[1]} \\n'\n",
    "f'Probabilidad de que la salida sea 0 para cuando la hipotesís es 1: {results[2]} \\n'\n",
    "f'Probabilidad de que la salida sea 1 para cuando la hipotesís es 1: {results[3]} \\n'\n",
    "f'Suma de probabilidades: {results[0] + results[1] + results[2] + results[3]} \\n')\n",
    "\n",
    "plt.title('Histograma de la distribución de probabilidad')\n",
    "plt.ylabel('Probabilidad')\n",
    "plt.legend(['$H_0$', '$H_1$'])\n",
    "plt.tight_layout()\n",
    "plt.show()"
   ]
  },
  {
   "cell_type": "markdown",
   "id": "a6b85def-0168-4b24-abb3-46dece34ce21",
   "metadata": {},
   "source": [
    "- Cuando esta tenemos mínima probabilidad de error?\n",
    "- El profesor dice que no  debe dar uno, pero a mí me da uno en ambos casos, y creo que se debe a que la probabilidad de la fuente para que sea $0$ y $1$ suman uno, y la probabilidad del canal tambien suman uno.     "
   ]
  },
  {
   "cell_type": "code",
   "execution_count": null,
   "id": "c0fec73d-178e-4544-b1d6-61e210f3a19e",
   "metadata": {},
   "outputs": [],
   "source": []
  }
 ],
 "metadata": {
  "kernelspec": {
   "display_name": "Python 3 (ipykernel)",
   "language": "python",
   "name": "python3"
  },
  "language_info": {
   "codemirror_mode": {
    "name": "ipython",
    "version": 3
   },
   "file_extension": ".py",
   "mimetype": "text/x-python",
   "name": "python",
   "nbconvert_exporter": "python",
   "pygments_lexer": "ipython3",
   "version": "3.11.7"
  }
 },
 "nbformat": 4,
 "nbformat_minor": 5
}
