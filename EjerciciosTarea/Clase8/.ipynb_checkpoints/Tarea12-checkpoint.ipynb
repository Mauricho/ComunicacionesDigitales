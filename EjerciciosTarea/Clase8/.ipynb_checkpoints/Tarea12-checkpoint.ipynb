{
 "cells": [
  {
   "cell_type": "markdown",
   "id": "765ae0f3",
   "metadata": {},
   "source": [
    "# Simulador de un Sistema de Comunicaciones Digitales 2"
   ]
  },
  {
   "cell_type": "code",
   "execution_count": 2,
   "id": "0297c0be",
   "metadata": {},
   "outputs": [],
   "source": [
    "#---------------------------------------------------------------------------------\n",
    "# Project    : Tarea N°11\n",
    "# Authors    : Mugni Juan Mauricio\n",
    "# Affiliation: UNC\n",
    "# E-mail     : mauricio.mugni@mi.unc.edu.ar\n",
    "#---------------------------------------------------------------------------------"
   ]
  },
  {
   "cell_type": "markdown",
   "id": "41db3f46",
   "metadata": {},
   "source": [
    "## Consigna"
   ]
  },
  {
   "cell_type": "markdown",
   "id": "48f7559d",
   "metadata": {},
   "source": [
    "Agregar al simulador realizado en la consigna anterior una función base del tipo raíz coseno realzado."
   ]
  },
  {
   "cell_type": "markdown",
   "id": "98338b11",
   "metadata": {},
   "source": [
    "## Resolución"
   ]
  },
  {
   "cell_type": "markdown",
   "id": "cfccbbe7",
   "metadata": {},
   "source": [
    "Se importan las siguientes librerías:"
   ]
  },
  {
   "cell_type": "code",
   "execution_count": 10,
   "id": "169eaa31-8ea9-4449-8bbc-4717afff6c14",
   "metadata": {},
   "outputs": [],
   "source": [
    "import random\n",
    "import numpy as np\n",
    "import matplotlib.pyplot as plt"
   ]
  },
  {
   "cell_type": "code",
   "execution_count": null,
   "id": "74beba18-c177-4d00-b77f-3a988e2a55fe",
   "metadata": {},
   "outputs": [],
   "source": []
  }
 ],
 "metadata": {
  "kernelspec": {
   "display_name": "Python 3 (ipykernel)",
   "language": "python",
   "name": "python3"
  },
  "language_info": {
   "codemirror_mode": {
    "name": "ipython",
    "version": 3
   },
   "file_extension": ".py",
   "mimetype": "text/x-python",
   "name": "python",
   "nbconvert_exporter": "python",
   "pygments_lexer": "ipython3",
   "version": "3.11.7"
  }
 },
 "nbformat": 4,
 "nbformat_minor": 5
}
