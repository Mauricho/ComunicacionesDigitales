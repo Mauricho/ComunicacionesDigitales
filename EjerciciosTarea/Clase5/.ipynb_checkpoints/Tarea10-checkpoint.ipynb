{
 "cells": [
  {
   "cell_type": "markdown",
   "id": "ebeb9748-ab3b-4884-957b-f2e87d5ff61d",
   "metadata": {},
   "source": [
    "# Cálculo del valor de decisión óoptimo y probabilidad de error en canales AWGN"
   ]
  },
  {
   "cell_type": "code",
   "execution_count": 1,
   "id": "5224b249-e3dd-43d0-ad34-55994ec1fada",
   "metadata": {},
   "outputs": [],
   "source": [
    "#---------------------------------------------------------------------------------\n",
    "# Project    : Tarea N°10\n",
    "# Authors    : Mugni Juan Mauricio\n",
    "# Affiliation: UNC\n",
    "# E-mail     : mauricio.mugni@mi.unc.edu.ar\n",
    "#---------------------------------------------------------------------------------"
   ]
  },
  {
   "cell_type": "markdown",
   "id": "65724a76-a016-4973-a9d3-e4ff6338b536",
   "metadata": {},
   "source": [
    "## Consigna"
   ]
  },
  {
   "cell_type": "markdown",
   "id": "900b5b39-5f35-4491-9283-554d1dab0fe5",
   "metadata": {},
   "source": [
    "Considere un sistema de comunicaciones en donde el transmisor transmite dos hipótesis H igualmente probables. Bajo la hipótesis $H=0$, la señal observada $Y$ por el receptor a la salida del canal es igual a $-1+Z$ donde $Z$ es una variable aleatoria Gaussiana $N(0,2)$.\n",
    "Bajo la hipótesis $H=1$, $Y$ viene dado por $2+Z$.\n",
    "- Exprese matemáticamente las funciones de densidad de probabilidad condicional $f_{Y|H}(y|0)$ y $f_{Y|H}(y|1)$.\n",
    "- Realice un programa en una Jupyter Notebook que dibuje las funciones de densidad de probabilidad $f_{Y|H}(y|0)$ y $f_{Y|H}(y|1)$.\n",
    "- Determine cualitativamente el nivel de decisión óptimo. Bajo que regla de decisión es óptima?\n",
    "- Determine cuantitativamente el nivel de decisión óptimo.\n",
    "- Exprese la probabilidad de error $P_e$ en términos de la función $Q$.\n",
    "- Utilice el siguiente código en Python para calcular el valor de $Q$ con los argumentos obtenidos en el punto anterior."
   ]
  },
  {
   "cell_type": "markdown",
   "id": "21b9faab-5a90-47ef-b91f-df884e574ef2",
   "metadata": {},
   "source": [
    "## Resolución"
   ]
  },
  {
   "cell_type": "markdown",
   "id": "42d501a5-82fb-4264-bbd9-729070906484",
   "metadata": {},
   "source": [
    "Importamos las siguientes librerías:"
   ]
  },
  {
   "cell_type": "code",
   "execution_count": 2,
   "id": "7a4436f0-7d5b-4a3c-9eeb-47080999b206",
   "metadata": {},
   "outputs": [],
   "source": [
    "import numpy as np\n",
    "import matplotlib.pyplot as plt\n",
    "from scipy.special import erf"
   ]
  },
  {
   "cell_type": "code",
   "execution_count": null,
   "id": "61f7a5d1-2911-482e-b69d-214ad73826e8",
   "metadata": {},
   "outputs": [],
   "source": []
  }
 ],
 "metadata": {
  "kernelspec": {
   "display_name": "Python 3 (ipykernel)",
   "language": "python",
   "name": "python3"
  },
  "language_info": {
   "codemirror_mode": {
    "name": "ipython",
    "version": 3
   },
   "file_extension": ".py",
   "mimetype": "text/x-python",
   "name": "python",
   "nbconvert_exporter": "python",
   "pygments_lexer": "ipython3",
   "version": "3.11.7"
  }
 },
 "nbformat": 4,
 "nbformat_minor": 5
}
