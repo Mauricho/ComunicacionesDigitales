{
 "cells": [
  {
   "cell_type": "code",
   "execution_count": 1,
   "id": "8fca3db4",
   "metadata": {},
   "outputs": [],
   "source": [
    "#! pip install pyadi-iio"
   ]
  },
  {
   "cell_type": "code",
   "execution_count": 2,
   "id": "808bcdf8",
   "metadata": {},
   "outputs": [],
   "source": [
    "import adi"
   ]
  },
  {
   "cell_type": "code",
   "execution_count": 3,
   "id": "30a102ad",
   "metadata": {},
   "outputs": [],
   "source": [
    "#! pip install matplotlib\n",
    "#! pip install scikit-dsp-comm\n",
    "#! pip install scikit-commpy\n",
    "#! pip install statsmodels"
   ]
  },
  {
   "cell_type": "code",
   "execution_count": 4,
   "id": "559c9f58",
   "metadata": {},
   "outputs": [],
   "source": [
    "Uri = \"ip:192.168.1.35\"\n",
    "sdr = adi.Pluto(Uri)"
   ]
  },
  {
   "cell_type": "code",
   "execution_count": 5,
   "id": "7c1c2fe9",
   "metadata": {},
   "outputs": [
    {
     "ename": "ModuleNotFoundError",
     "evalue": "No module named 'matplotlib'",
     "output_type": "error",
     "traceback": [
      "\u001b[0;31m---------------------------------------------------------------------------\u001b[0m",
      "\u001b[0;31mModuleNotFoundError\u001b[0m                       Traceback (most recent call last)",
      "Cell \u001b[0;32mIn[5], line 3\u001b[0m\n\u001b[1;32m      1\u001b[0m \u001b[38;5;66;03m#------------------------------- Libraries ------------------------------- \u001b[39;00m\n\u001b[1;32m      2\u001b[0m \u001b[38;5;28;01mimport\u001b[39;00m \u001b[38;5;21;01mnumpy\u001b[39;00m \u001b[38;5;28;01mas\u001b[39;00m \u001b[38;5;21;01mnp\u001b[39;00m\n\u001b[0;32m----> 3\u001b[0m \u001b[38;5;28;01mimport\u001b[39;00m \u001b[38;5;21;01mmatplotlib\u001b[39;00m\u001b[38;5;21;01m.\u001b[39;00m\u001b[38;5;21;01mpyplot\u001b[39;00m \u001b[38;5;28;01mas\u001b[39;00m \u001b[38;5;21;01mplt\u001b[39;00m\n\u001b[1;32m      4\u001b[0m \u001b[38;5;28;01mfrom\u001b[39;00m \u001b[38;5;21;01mstatsmodels\u001b[39;00m\u001b[38;5;21;01m.\u001b[39;00m\u001b[38;5;21;01mgraphics\u001b[39;00m\u001b[38;5;21;01m.\u001b[39;00m\u001b[38;5;21;01mgofplots\u001b[39;00m \u001b[38;5;28;01mimport\u001b[39;00m qqplot\n\u001b[1;32m      5\u001b[0m \u001b[38;5;28;01mfrom\u001b[39;00m \u001b[38;5;21;01mscipy\u001b[39;00m\u001b[38;5;21;01m.\u001b[39;00m\u001b[38;5;21;01mstats\u001b[39;00m \u001b[38;5;28;01mimport\u001b[39;00m norm, probplot\n",
      "\u001b[0;31mModuleNotFoundError\u001b[0m: No module named 'matplotlib'"
     ]
    }
   ],
   "source": [
    "#------------------------------- Libraries ------------------------------- \n",
    "import numpy as np\n",
    "import matplotlib.pyplot as plt\n",
    "from statsmodels.graphics.gofplots import qqplot\n",
    "from scipy.stats import norm, probplot"
   ]
  },
  {
   "cell_type": "markdown",
   "id": "d4a17a6c",
   "metadata": {},
   "source": [
    "Por otra parte, para observar el efecto que producen los cambios de configuración a realizar, nos valdremos de dos señales. La primera de ellas es la exponencial compleja que nos permitirá enviar por la componente en fase una señal cosenoidal y por la componente en cuadratura una señal senoidal:\n",
    "\n",
    "$$ s(n T_{s}) = \\textrm{exp}(j 2 \\pi f_{c} n T_{s})= cos( 2 \\pi f_{c} n T_{s}) + j sen( 2 \\pi f_{c} n T_{s})$$\n",
    "\n",
    "Esta señal es implementada con el siguiente código"
   ]
  },
  {
   "cell_type": "code",
   "execution_count": null,
   "id": "cfcb9bbd",
   "metadata": {},
   "outputs": [],
   "source": [
    "def complexExp(N,Fc,Fs):\n",
    "    # N : Number of samples to transmit at once\n",
    "    # Fc: Carrier frequency in Hz\n",
    "    # Fs: Sampling frequency in Hz\n",
    "    if Fs < 2*Fc:\n",
    "        raise ValueError(\n",
    "            \"Error: Fs must be at least 2 time Fc\"\n",
    "        )\n",
    "    Tsamp  = 1/Fs;\n",
    "    n      = np.arange(N)\n",
    "    signal = 1.0*np.exp(1j*2.0*np.pi*Fc*n*Tsamp) \n",
    "    return signal"
   ]
  },
  {
   "cell_type": "code",
   "execution_count": null,
   "id": "168a0958",
   "metadata": {},
   "outputs": [],
   "source": [
    "nSamples     = 2**20\n",
    "samplingRate = 2.0e6\n",
    "frec         = samplingRate/8\n",
    "txSignalExp  = complexExp(nSamples,frec,samplingRate)"
   ]
  },
  {
   "cell_type": "code",
   "execution_count": null,
   "id": "13c26835",
   "metadata": {},
   "outputs": [],
   "source": [
    "def plotSignal(signal):\n",
    "#------------------------------- Transmitted I component ------------------------------- \n",
    "# Plot time domain\n",
    "    plt.figure(figsize=(20,8), dpi= 80, facecolor='w', edgecolor='k')\n",
    "    plt.subplot(2,1,1)\n",
    "    plt.plot(np.real(signal))\n",
    "    plt.xlabel('n')\n",
    "    plt.ylabel('Amplitud')\n",
    "    plt.title('Componente en fase de la señal')\n",
    "    plt.grid()\n",
    "#------------------------------- Transmitted Q component -------------------------------\n",
    "# Plot time domain\n",
    "    plt.subplot(2,1,2)\n",
    "    plt.plot(np.imag(signal))\n",
    "    plt.xlabel('n')\n",
    "    plt.ylabel('Amplitud')\n",
    "    plt.title('Componente en cuadratura de la señal')\n",
    "    plt.grid()\n",
    "    plt.show()"
   ]
  },
  {
   "cell_type": "code",
   "execution_count": null,
   "id": "b17f7c0f",
   "metadata": {},
   "outputs": [],
   "source": [
    "plotSignal(txSignalExp[0:400])"
   ]
  },
  {
   "cell_type": "markdown",
   "id": "0c9208d6",
   "metadata": {},
   "source": [
    "La gráfica del espectro de densidad de potencia puede obtenerse a partir del siguiente código"
   ]
  },
  {
   "cell_type": "code",
   "execution_count": null,
   "id": "22c4eefc",
   "metadata": {},
   "outputs": [],
   "source": [
    "def plotSpect(signal,samplingRate):\n",
    "    plt.subplots(figsize=(15, 3))\n",
    "    plt.grid()\n",
    "    plt.title(\"Power Spectral Density\")\n",
    "    plt.psd(signal, len(signal), samplingRate, color='C1')\n",
    "    plt.show()"
   ]
  },
  {
   "cell_type": "code",
   "execution_count": null,
   "id": "fe595ac6",
   "metadata": {},
   "outputs": [],
   "source": [
    "plotSpect(txSignalExp,samplingRate)"
   ]
  },
  {
   "cell_type": "markdown",
   "id": "19f7ec2a",
   "metadata": {},
   "source": [
    "## Parámetros de configuración del SDR"
   ]
  },
  {
   "cell_type": "code",
   "execution_count": null,
   "id": "94c880e2",
   "metadata": {},
   "outputs": [],
   "source": [
    "#------------------------------- SDR Parameter Configuration -------------------------------\n",
    "\n",
    "Uri              = Uri\n",
    "Loopback         = 0             # 0=Disabled, 1=Digital loopback, 2=Retransmiter\n",
    "SamplingRate     = samplingRate  # Sample rate RX and TX paths[Samples/Sec]\n",
    "\n",
    "TxLOFreq         = 946e6         # Carrier frequency of TX path [Hz]\n",
    "TxAtten          = -70           # Attenuation applied to TX path, valid range is -89 to 0 dB [dB]\n",
    "TxRfBw           = 2.0e6         # Bandwidth of front-end analog filter of TX path [Hz]\n",
    "RxBufferSize     = nSamples      # Depend on the length of the transmit signal. Maximum tx buffer size 2**24[samples]\n",
    "tx_cyclic_buffer = False\n",
    "\n",
    "RxLOFreq         = TxLOFreq      # Carrier frequency of RX path [Hz]\n",
    "GainControlModes = \"manual\" # Receive path AGC Options: slow_attack, fast_attack, manual\n",
    "RxHardwareGain   = 70            # Gain applied to RX path. Only applicable when gain_control_mode is set to 'manual'    \n",
    "RxRfBw           = TxRfBw        # Bandwidth of front-end analog filter of RX path [Hz] \n",
    "RxBufferSize     = 2**20       # Rx Buffer size. Maximun value 2**28 [Samples]"
   ]
  },
  {
   "cell_type": "markdown",
   "id": "841415aa",
   "metadata": {},
   "source": [
    "## Lazo de retorno\n",
    "El primer parámetro de configuración es el lazo de retorno o Loopback. Como se puede observar en la Figura 2, el chip posee un bloque que permite enviar, de forma directa, la señal digital ingresada en los pines de entrada del transmisor hacia los pines de salida del receptor, sin pasar por ninguna de las etapas del transceptor. Esta configuración se consigue seteando el parámetro \"sdr.loopback\" con el valor 1. En caso de setearlo con el valor 2, el transceptor funcionará como un repetidor, emitiendo por el transmisor la señal recibida por el receptor. Para desactivar cualquier tipo de lazo de retorno se debe cargar el parámetro con el valor 0. \n",
    "- **Rango de valores del lazo de retorno:**\n",
    " - **0: Desactivado**\n",
    " - **1: Realimentación de la señal digital**\n",
    " - **2: Realimentación de la señal de RF**"
   ]
  },
  {
   "cell_type": "code",
   "execution_count": null,
   "id": "b4116a62",
   "metadata": {},
   "outputs": [],
   "source": [
    "sdr.loopback = Loopback"
   ]
  },
  {
   "cell_type": "markdown",
   "id": "e44cf629",
   "metadata": {},
   "source": [
    "## Frecuencia de muestreo\n",
    "El segundo parámetro de configuración a describir es el \"sdr.sample_rate\". Este parámetro define la frecuencia a la cual el AD9363 va a estar procesando las muestras digitales correspondientes a las componentes en fase y en cuadratura de la parte transmisora y receptora. Para el caso en que los datos digitales sean generados o entregados un Host remoto de forma continua, como por ejemplo una computadora, la máxima frecuencia de muestreo a configurar va a depender del límite de velocidad soportado por el tipo de conexión al Host remoto.\n",
    "\n",
    "- **Rango de la frec. de muestreo: 521 KSPS a 61.44 MSPS**"
   ]
  },
  {
   "cell_type": "code",
   "execution_count": null,
   "id": "98c92e8f",
   "metadata": {},
   "outputs": [],
   "source": [
    "# sdr.sample_rate = samplingRate  # Sample rate RX and TX paths[Samples/Sec]"
   ]
  },
  {
   "cell_type": "markdown",
   "id": "ab9f1deb",
   "metadata": {},
   "source": [
    "## Ancho de banda en RF\n",
    "En la parte receptora, la señal que sale de los mezcladores de RF es filtrada para eliminar los efectos de alias y para reducir la interferencia y el ruido fuera de banda. Un amplificador de transimpedancia (TIA) y un filtro analógico se configuran y funcionan de forma conjunta para mantener el ancho de banda analógico deseado, cuyo rango va desde los 200 kHz hasta los 20 MHz. El TIA actúa como un filtro de un polo y el filtro analógico es un filtro Butterworth de tercer orden programable.\n",
    "- **Rango del ancho de banda en RF del transmisor y del receptor: 200Khz a 20 Mhz**"
   ]
  },
  {
   "cell_type": "code",
   "execution_count": null,
   "id": "c32f1c48",
   "metadata": {},
   "outputs": [],
   "source": [
    "sdr.tx_rf_bandwidth = int(TxRfBw)  # Bandwidth of front-end analog filter of TX path [Hz]\n",
    "sdr.rx_rf_bandwidth = int(RxRfBw)  # Bandwidth of front-end analog filter of RX path [Hz] "
   ]
  },
  {
   "cell_type": "markdown",
   "id": "ea6d7be5",
   "metadata": {},
   "source": [
    "## Ganancia del Hardware\n",
    "La ganancia total de la etapa receptora es configurada por dos parámetros \"sdr.gain_control_mode_chan0\" y \"sdr.rx_hardwaregain_chan0\". El primero de ellos define si la configuración va a ser manual o automática. En caso de elegir la configuración manual, \"sdr.gain_control_mode_chan0\" es utilizado para definir la ganancia. Este valor está asociado con una tabla de ganancias ubicada dentro del AD9363. Por lo tanto, cuando el valor de ganancia total cambia, varias etapas en la cadena de recepción se actualizan según esta tabla interna. En caso de requerir configuraciones personalizadas, es posible modificar la tabla de ganancias. Para el caso de ganancia automática se cuenta con opciones del tipo respuesta rápida (fast attack) o respuesta lenta (Low attack). Para estas últimas configuraciones, el control de la ganancia es realizado por una máquina de estado dentro del AD9363 que va adaptando su valor según la intensidad de la señal de recepción (RSSI). Si la transmisión recibida es muy corta o cambia rápidamente de amplitud, el modo Fast Attack será la mejor opción. En cambio, cuando la amplitud de la señal recibida cambie lentamente es preferible el uso del modo Slow Attack.\n",
    "- **Modos del control de ganancia: \"manual\", \"slow_attack\", \"fast_attack\".**\n",
    "- **Rango del valor de ganancia en modo manual: 0 a 90 dB.** "
   ]
  },
  {
   "cell_type": "code",
   "execution_count": null,
   "id": "40d0b2be",
   "metadata": {},
   "outputs": [],
   "source": [
    "sdr.tx_hardwaregain_chan0   = TxAtten # Attenuation applied to TX path, valid range is -90 to 0 dB [dB]\n",
    "sdr.rx_hardwaregain_chan0   = RxHardwareGain   # Gain applied to RX path. Only applicable when gain_control_mode is set to 'manual'\n",
    "sdr.gain_control_mode_chan0 = GainControlModes # Receive path AGC Options: slow_attack, fast_attack, manual"
   ]
  },
  {
   "cell_type": "markdown",
   "id": "d30f5593",
   "metadata": {},
   "source": [
    "## Frecuencia de portadora\n",
    "El transceptor cuenta con un par de mezcladores en cuadratura en la parte transmisora/receptora, los cuales permiten procesar/obtener las componentes en fase y cuadratura y realizar su traslado en frecuencia. Desde el punto de vista del receptor, la arquitectura implementada para llevar la señal de RF a banda base es la llamada conversión directa (o Zero Forcing). En este tipo de arquitectura no se hace uso de etapas de frecuencia intermedia. El rango de operación de los mezcladores va desde los 325 Mhz hasta los 3.8 Ghz, pero se pueden hacer [modificaciones](https://wiki.analog.com/university/tools/pluto/users/customizing) en el software para ampliar este rango.\n",
    "\n",
    "- **Rango de los osciladores de RF en el transmisor y en el receptor: 325 Mhz a 3.800 Mhz**\n"
   ]
  },
  {
   "cell_type": "code",
   "execution_count": null,
   "id": "764882e2",
   "metadata": {},
   "outputs": [],
   "source": [
    "sdr.tx_lo = int(TxLOFreq)# Carrier frequency of TX path [Hz]\n",
    "sdr.rx_lo = int(RxLOFreq) # Carrier frequency of RX path [Hz]"
   ]
  },
  {
   "cell_type": "markdown",
   "id": "999add35",
   "metadata": {},
   "source": [
    "## Buffers"
   ]
  },
  {
   "cell_type": "code",
   "execution_count": null,
   "id": "d4df98d3",
   "metadata": {},
   "outputs": [],
   "source": [
    "sdr.rx_buffer_size   = RxBufferSize\n",
    "sdr.tx_cyclic_buffer = tx_cyclic_buffer\n",
    "#sdr._ctrl.context.set_timeout(0) # <- disable timeout if you want to use large buffer size"
   ]
  },
  {
   "cell_type": "markdown",
   "id": "59d69f7f",
   "metadata": {},
   "source": [
    "## Transmitiendo y Recibiendo\n",
    "Las lineas de código que permiten transmitir y recibir las señales por el SDR son:"
   ]
  },
  {
   "cell_type": "code",
   "execution_count": null,
   "id": "740324e4",
   "metadata": {},
   "outputs": [],
   "source": [
    "#------------------------------- Transmitter ------------------------------- \n",
    "sdr.tx(txSignalExp*(2**15-1)) # The PlutoSDR expects samples to be between -2^15-1 and +2^15-1, not -1 and +1 like some SDRs"
   ]
  },
  {
   "cell_type": "code",
   "execution_count": null,
   "id": "299f6fa0",
   "metadata": {},
   "outputs": [],
   "source": [
    "#------------------------------- Receiver ------------------------------- \n",
    "rxSignal = sdr.rx()"
   ]
  },
  {
   "cell_type": "code",
   "execution_count": null,
   "id": "063f18c4",
   "metadata": {},
   "outputs": [],
   "source": [
    "# 1- Obtenemos la media y la varianza\n",
    "\n",
    "real = np.real(rxSignal)\n",
    "imag = np.imag(rxSignal)\n",
    "\n",
    "mean_real = np.mean(real)\n",
    "mean_imag = np.mean(imag)\n",
    "\n",
    "var_real = np.var(real)\n",
    "var_imag = np.var(imag)\n",
    "\n",
    "print(\"Media real:\", mean_real)\n",
    "print(\"Media imaginaria:\", mean_imag)\n",
    "print(\"Varianza real:\", var_real)\n",
    "print(\"Varianza imaginaria:\", var_imag)"
   ]
  },
  {
   "cell_type": "code",
   "execution_count": null,
   "id": "d9ec0f57",
   "metadata": {},
   "outputs": [],
   "source": [
    "# 2- Realizar un histograma\n",
    "# 3- Normalizar el histograma para que el area encerrada sea igual a 1\n",
    "# 4- Superponer el histograma normalizado con una funcion PDF gaussiana\n",
    "\n",
    "# Calculo desviacion estandar para la funcion de densidad de poblacion.\n",
    "x = np.arange(-40, 40, step=0.5)\n",
    "std_real = np.std(real)\n",
    "std_imag = np.std(imag)\n",
    "normal_real = norm(mean_real, std_real)\n",
    "normal_imag = norm(mean_imag, std_imag)\n",
    "pdf_real = normal_real.pdf(x)\n",
    "pdf_imag = normal_imag.pdf(x)\n",
    "\n",
    "# Histograma parte real\n",
    "plt.figure(figsize=(10,6))\n",
    "plt.xlabel(\"Parte Real\")\n",
    "plt.ylabel(\"Densidad de poblacion\")\n",
    "plt.hist(real, bins=100, density=True)\n",
    "plt.plot(x, pdf_real)\n",
    "plt.grid(True)\n",
    "plt.show()\n",
    "\n",
    "# Histograma parte imaginaria\n",
    "plt.figure(figsize=(10,6))\n",
    "plt.xlabel(\"Parte Imaginaria\")\n",
    "plt.ylabel(\"Densidad de poblacion\")\n",
    "plt.hist(imag, bins=100, density=True)\n",
    "plt.plot(x, pdf_imag)\n",
    "plt.grid(True)\n",
    "plt.show()"
   ]
  },
  {
   "cell_type": "code",
   "execution_count": null,
   "id": "e78afdb8",
   "metadata": {},
   "outputs": [],
   "source": [
    "# 5- Analizar la gaussianidad mediante un grafico Q-Q haciendo uso de qqplot\n",
    "qqplot(real, line='s')\n",
    "plt.title(\"Parte Real\")\n",
    "plt.show()\n",
    "\n",
    "qqplot(imag, line='s')\n",
    "plt.title(\"Parte Imaginaria\")\n",
    "plt.show()"
   ]
  },
  {
   "cell_type": "code",
   "execution_count": null,
   "id": "25f25164",
   "metadata": {},
   "outputs": [],
   "source": [
    "# 6- Generar mediante un código, una variable gaussiana compleja que tenga la misma media y varianza que la señal muestreada y obtener su histograma.\n",
    "\n",
    "gaussian_real = np.random.normal(mean_real, np.sqrt(var_real), len(real))\n",
    "gaussian_imag = np.random.normal(mean_imag, np.sqrt(var_imag), len(imag))\n",
    "\n",
    "# Combino las partes real e imaginaria para formar una variable gaussiana compleja\n",
    "gaussian_complex = gaussian_real + 1j * gaussian_imag\n",
    "\n",
    "# Calculo el histograma de la parte real e imaginaria de la variable gaussiana compleja\n",
    "plt.figure(figsize=(10, 6))\n",
    "plt.hist(np.real(gaussian_complex), bins=50, density=True, label='Parte Real')\n",
    "plt.hist(np.imag(gaussian_complex), bins=50, density=True, alpha=0.5, label='Parte Imaginaria')\n",
    "plt.title('Histograma de Variable Gaussiana Compleja')\n",
    "plt.xlabel('Valor')\n",
    "plt.ylabel('Densidad de probabilidad')\n",
    "plt.legend()\n",
    "plt.grid(True)\n",
    "plt.show()"
   ]
  },
  {
   "cell_type": "markdown",
   "id": "0aba97aa",
   "metadata": {},
   "source": [
    "## Gráfica temporal de la señal recibida"
   ]
  },
  {
   "cell_type": "code",
   "execution_count": null,
   "id": "df1df822",
   "metadata": {},
   "outputs": [],
   "source": [
    "plotSignal(rxSignal[0:1000])"
   ]
  },
  {
   "cell_type": "markdown",
   "id": "51d06b36",
   "metadata": {},
   "source": [
    "## Gráfica de la densidad espectral de potencia de la señal recibida"
   ]
  },
  {
   "cell_type": "code",
   "execution_count": null,
   "id": "7970d124",
   "metadata": {},
   "outputs": [],
   "source": [
    "plotSpect(rxSignal,samplingRate)"
   ]
  },
  {
   "cell_type": "markdown",
   "id": "9b0bbfeb",
   "metadata": {},
   "source": [
    "## Finalizando la experiencia\n",
    "Dado que no es posible apagar la etapa transmisora del SDR, es recomendable antes de finalizar la experiencia, dejar configurado el transmisor con la máxima atenuación posible, asegurarse que las frecuencias de transmisión y recepción no coinciden y cargar al Buffer transmisor con ceros. Esto permitirá minimizar cualquier posible interferencia por parte del SDR."
   ]
  },
  {
   "cell_type": "code",
   "execution_count": null,
   "id": "9fe4e976",
   "metadata": {},
   "outputs": [],
   "source": [
    "# Since it is not possible to turn off Tx, it is configured to transmit at low power and on a different frequency than Rx.\n",
    "sdr.tx_destroy_buffer()\n",
    "sdr.tx_hardwaregain_chan0 = -89 \n",
    "sdr.tx_lo                 = int(2400e6)\n",
    "sdr.rx_lo                 = int(950e6)\n",
    "sdr.tx(np.zeros(2048))"
   ]
  },
  {
   "cell_type": "code",
   "execution_count": null,
   "id": "fbcfb091",
   "metadata": {},
   "outputs": [],
   "source": [
    "# Destroy radio object\n",
    "del(sdr)"
   ]
  },
  {
   "cell_type": "code",
   "execution_count": null,
   "id": "44b5f749",
   "metadata": {},
   "outputs": [],
   "source": []
  }
 ],
 "metadata": {
  "kernelspec": {
   "display_name": "Python 3 (ipykernel)",
   "language": "python",
   "name": "python3"
  },
  "language_info": {
   "codemirror_mode": {
    "name": "ipython",
    "version": 3
   },
   "file_extension": ".py",
   "mimetype": "text/x-python",
   "name": "python",
   "nbconvert_exporter": "python",
   "pygments_lexer": "ipython3",
   "version": "3.9.18"
  }
 },
 "nbformat": 4,
 "nbformat_minor": 5
}
